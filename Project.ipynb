{
 "cells": [
  {
   "cell_type": "markdown",
   "metadata": {
    "id": "V9XudlxVIEDB"
   },
   "source": [
    "Alex McGraw, Eliesha Lai, Jocelyne Walker, Katelyn Vincent, Mauricio Morales, Shruti Kolhatkar"
   ]
  },
  {
   "cell_type": "markdown",
   "metadata": {
    "id": "selected-system"
   },
   "source": [
    "## Part 1\n",
    "# Find predictors of influence using  kaggle data"
   ]
  },
  {
   "cell_type": "code",
   "execution_count": null,
   "metadata": {
    "colab": {
     "base_uri": "https://localhost:8080/",
     "height": 140,
     "resources": {
      "http://localhost:8080/nbextensions/google.colab/files.js": {
       "data": "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",
       "headers": [
        [
         "content-type",
         "application/javascript"
        ]
       ],
       "ok": true,
       "status": 200,
       "status_text": ""
      }
     }
    },
    "id": "dIKrm7gmBOJ_",
    "outputId": "a54d8951-43d9-4fa2-b1bc-6311c36cd2ca"
   },
   "outputs": [
    {
     "data": {
      "text/html": [
       "\n",
       "     <input type=\"file\" id=\"files-bd5d0ffb-fe70-4b76-96e0-b145dcc1ace4\" name=\"files[]\" multiple disabled\n",
       "        style=\"border:none\" />\n",
       "     <output id=\"result-bd5d0ffb-fe70-4b76-96e0-b145dcc1ace4\">\n",
       "      Upload widget is only available when the cell has been executed in the\n",
       "      current browser session. Please rerun this cell to enable.\n",
       "      </output>\n",
       "      <script src=\"/nbextensions/google.colab/files.js\"></script> "
      ],
      "text/plain": [
       "<IPython.core.display.HTML object>"
      ]
     },
     "metadata": {
      "tags": []
     },
     "output_type": "display_data"
    },
    {
     "name": "stdout",
     "output_type": "stream",
     "text": [
      "Saving query_gamestop GME gme AMC.csv to query_gamestop GME gme AMC.csv\n",
      "Saving train.csv to train (1).csv\n",
      "Saving edges_output_all_data.csv to edges_output_all_data (2).csv\n"
     ]
    }
   ],
   "source": [
    "import io\n",
    "import os \n",
    "import pandas as pd\n",
    "from pydrive.auth import GoogleAuth\n",
    "from pydrive.drive import GoogleDrive\n",
    "from google.colab import auth\n",
    "from google.colab import drive\n",
    "from google.colab import files\n",
    "uploaded = files.upload()"
   ]
  },
  {
   "cell_type": "code",
   "execution_count": null,
   "metadata": {
    "colab": {
     "base_uri": "https://localhost:8080/"
    },
    "id": "innocent-farmer",
    "outputId": "357d0aae-5ded-4624-c1d4-25248854f96e"
   },
   "outputs": [
    {
     "name": "stdout",
     "output_type": "stream",
     "text": [
      "Populating the interactive namespace from numpy and matplotlib\n"
     ]
    }
   ],
   "source": [
    "import numpy as np\n",
    "import pandas as pd\n",
    "import matplotlib.pyplot as plt\n",
    "%matplotlib inline\n",
    "%pylab inline\n",
    "import seaborn as sns"
   ]
  },
  {
   "cell_type": "code",
   "execution_count": null,
   "metadata": {
    "colab": {
     "base_uri": "https://localhost:8080/",
     "height": 224
    },
    "id": "objective-invasion",
    "outputId": "dab670e9-21f5-4a6f-886d-9d201c06e0b1"
   },
   "outputs": [
    {
     "data": {
      "text/html": [
       "<div>\n",
       "<style scoped>\n",
       "    .dataframe tbody tr th:only-of-type {\n",
       "        vertical-align: middle;\n",
       "    }\n",
       "\n",
       "    .dataframe tbody tr th {\n",
       "        vertical-align: top;\n",
       "    }\n",
       "\n",
       "    .dataframe thead th {\n",
       "        text-align: right;\n",
       "    }\n",
       "</style>\n",
       "<table border=\"1\" class=\"dataframe\">\n",
       "  <thead>\n",
       "    <tr style=\"text-align: right;\">\n",
       "      <th></th>\n",
       "      <th>Choice</th>\n",
       "      <th>A_follower_count</th>\n",
       "      <th>A_following_count</th>\n",
       "      <th>A_listed_count</th>\n",
       "      <th>A_mentions_received</th>\n",
       "      <th>A_retweets_received</th>\n",
       "      <th>A_mentions_sent</th>\n",
       "      <th>A_retweets_sent</th>\n",
       "      <th>A_posts</th>\n",
       "      <th>A_network_feature_1</th>\n",
       "      <th>...</th>\n",
       "      <th>B_following_count</th>\n",
       "      <th>B_listed_count</th>\n",
       "      <th>B_mentions_received</th>\n",
       "      <th>B_retweets_received</th>\n",
       "      <th>B_mentions_sent</th>\n",
       "      <th>B_retweets_sent</th>\n",
       "      <th>B_posts</th>\n",
       "      <th>B_network_feature_1</th>\n",
       "      <th>B_network_feature_2</th>\n",
       "      <th>B_network_feature_3</th>\n",
       "    </tr>\n",
       "  </thead>\n",
       "  <tbody>\n",
       "    <tr>\n",
       "      <th>0</th>\n",
       "      <td>0</td>\n",
       "      <td>228</td>\n",
       "      <td>302</td>\n",
       "      <td>3</td>\n",
       "      <td>0.583979</td>\n",
       "      <td>0.100503</td>\n",
       "      <td>0.100503</td>\n",
       "      <td>0.100503</td>\n",
       "      <td>0.362150</td>\n",
       "      <td>2</td>\n",
       "      <td>...</td>\n",
       "      <td>29808</td>\n",
       "      <td>1689</td>\n",
       "      <td>15.430498</td>\n",
       "      <td>3.984029</td>\n",
       "      <td>8.204331</td>\n",
       "      <td>0.332423</td>\n",
       "      <td>6.988815</td>\n",
       "      <td>66</td>\n",
       "      <td>75.530303</td>\n",
       "      <td>1916.893939</td>\n",
       "    </tr>\n",
       "    <tr>\n",
       "      <th>1</th>\n",
       "      <td>0</td>\n",
       "      <td>21591</td>\n",
       "      <td>1179</td>\n",
       "      <td>228</td>\n",
       "      <td>90.456506</td>\n",
       "      <td>25.798292</td>\n",
       "      <td>5.709329</td>\n",
       "      <td>1.111159</td>\n",
       "      <td>5.176620</td>\n",
       "      <td>369</td>\n",
       "      <td>...</td>\n",
       "      <td>848</td>\n",
       "      <td>1610</td>\n",
       "      <td>40.495021</td>\n",
       "      <td>8.943607</td>\n",
       "      <td>3.227677</td>\n",
       "      <td>0.564343</td>\n",
       "      <td>1.070321</td>\n",
       "      <td>163</td>\n",
       "      <td>132.030675</td>\n",
       "      <td>2931.515337</td>\n",
       "    </tr>\n",
       "    <tr>\n",
       "      <th>2</th>\n",
       "      <td>0</td>\n",
       "      <td>7310</td>\n",
       "      <td>1215</td>\n",
       "      <td>101</td>\n",
       "      <td>25.503644</td>\n",
       "      <td>9.556347</td>\n",
       "      <td>5.361519</td>\n",
       "      <td>0.591206</td>\n",
       "      <td>3.589718</td>\n",
       "      <td>95</td>\n",
       "      <td>...</td>\n",
       "      <td>482</td>\n",
       "      <td>206</td>\n",
       "      <td>0.734696</td>\n",
       "      <td>0.354379</td>\n",
       "      <td>0.603202</td>\n",
       "      <td>0.100503</td>\n",
       "      <td>0.603202</td>\n",
       "      <td>3</td>\n",
       "      <td>10.333333</td>\n",
       "      <td>277.333333</td>\n",
       "    </tr>\n",
       "    <tr>\n",
       "      <th>3</th>\n",
       "      <td>0</td>\n",
       "      <td>20</td>\n",
       "      <td>7</td>\n",
       "      <td>2</td>\n",
       "      <td>7.690824</td>\n",
       "      <td>0.277306</td>\n",
       "      <td>1.331508</td>\n",
       "      <td>0.100503</td>\n",
       "      <td>2.830627</td>\n",
       "      <td>6</td>\n",
       "      <td>...</td>\n",
       "      <td>17637</td>\n",
       "      <td>278</td>\n",
       "      <td>572.874856</td>\n",
       "      <td>390.293681</td>\n",
       "      <td>27.552040</td>\n",
       "      <td>7.167557</td>\n",
       "      <td>32.101906</td>\n",
       "      <td>1762</td>\n",
       "      <td>23.469296</td>\n",
       "      <td>1395.845634</td>\n",
       "    </tr>\n",
       "    <tr>\n",
       "      <th>4</th>\n",
       "      <td>1</td>\n",
       "      <td>45589</td>\n",
       "      <td>862</td>\n",
       "      <td>2641</td>\n",
       "      <td>148.854279</td>\n",
       "      <td>36.998884</td>\n",
       "      <td>27.881768</td>\n",
       "      <td>3.333492</td>\n",
       "      <td>23.861282</td>\n",
       "      <td>551</td>\n",
       "      <td>...</td>\n",
       "      <td>1711</td>\n",
       "      <td>181</td>\n",
       "      <td>21.601866</td>\n",
       "      <td>3.581661</td>\n",
       "      <td>6.764657</td>\n",
       "      <td>1.119727</td>\n",
       "      <td>4.563246</td>\n",
       "      <td>85</td>\n",
       "      <td>48.500000</td>\n",
       "      <td>1993.627907</td>\n",
       "    </tr>\n",
       "  </tbody>\n",
       "</table>\n",
       "<p>5 rows × 23 columns</p>\n",
       "</div>"
      ],
      "text/plain": [
       "   Choice  A_follower_count  A_following_count  A_listed_count  \\\n",
       "0       0               228                302               3   \n",
       "1       0             21591               1179             228   \n",
       "2       0              7310               1215             101   \n",
       "3       0                20                  7               2   \n",
       "4       1             45589                862            2641   \n",
       "\n",
       "   A_mentions_received  A_retweets_received  A_mentions_sent  A_retweets_sent  \\\n",
       "0             0.583979             0.100503         0.100503         0.100503   \n",
       "1            90.456506            25.798292         5.709329         1.111159   \n",
       "2            25.503644             9.556347         5.361519         0.591206   \n",
       "3             7.690824             0.277306         1.331508         0.100503   \n",
       "4           148.854279            36.998884        27.881768         3.333492   \n",
       "\n",
       "     A_posts  A_network_feature_1  ...  B_following_count  B_listed_count  \\\n",
       "0   0.362150                    2  ...              29808            1689   \n",
       "1   5.176620                  369  ...                848            1610   \n",
       "2   3.589718                   95  ...                482             206   \n",
       "3   2.830627                    6  ...              17637             278   \n",
       "4  23.861282                  551  ...               1711             181   \n",
       "\n",
       "   B_mentions_received  B_retweets_received  B_mentions_sent  B_retweets_sent  \\\n",
       "0            15.430498             3.984029         8.204331         0.332423   \n",
       "1            40.495021             8.943607         3.227677         0.564343   \n",
       "2             0.734696             0.354379         0.603202         0.100503   \n",
       "3           572.874856           390.293681        27.552040         7.167557   \n",
       "4            21.601866             3.581661         6.764657         1.119727   \n",
       "\n",
       "     B_posts  B_network_feature_1  B_network_feature_2  B_network_feature_3  \n",
       "0   6.988815                   66            75.530303          1916.893939  \n",
       "1   1.070321                  163           132.030675          2931.515337  \n",
       "2   0.603202                    3            10.333333           277.333333  \n",
       "3  32.101906                 1762            23.469296          1395.845634  \n",
       "4   4.563246                   85            48.500000          1993.627907  \n",
       "\n",
       "[5 rows x 23 columns]"
      ]
     },
     "execution_count": 5,
     "metadata": {
      "tags": []
     },
     "output_type": "execute_result"
    }
   ],
   "source": [
    "data = pd.read_csv('train.csv')\n",
    "data.head()"
   ]
  },
  {
   "cell_type": "code",
   "execution_count": null,
   "metadata": {
    "colab": {
     "base_uri": "https://localhost:8080/",
     "height": 342
    },
    "id": "swedish-celtic",
    "outputId": "5ce60481-9ca9-47e0-98c2-863f09a3700b"
   },
   "outputs": [
    {
     "data": {
      "image/png": "[encoded data removed]",
      "text/plain": [
       "<Figure size 432x288 with 2 Axes>"
      ]
     },
     "metadata": {
      "needs_background": "light",
      "tags": []
     },
     "output_type": "display_data"
    }
   ],
   "source": [
    "# test the correlation to identify collinearity in variables\n",
    "a = data.iloc[:,1:12]\n",
    "corr = a.corr()\n",
    "ax = sns.heatmap(\n",
    "    corr, \n",
    "    vmin=-1, vmax=1, center=0,\n",
    "    cmap=sns.diverging_palette(20, 220, n=200),\n",
    "    square=True\n",
    ")\n",
    "ax.set_xticklabels(\n",
    "    ax.get_xticklabels(),\n",
    "    rotation=45,\n",
    "    horizontalalignment='right'\n",
    ");"
   ]
  },
  {
   "cell_type": "code",
   "execution_count": null,
   "metadata": {
    "colab": {
     "base_uri": "https://localhost:8080/",
     "height": 410
    },
    "id": "overall-sarah",
    "outputId": "ac13696f-aea1-4648-bc32-2c3364824e57"
   },
   "outputs": [
    {
     "data": {
      "text/html": [
       "<div>\n",
       "<style scoped>\n",
       "    .dataframe tbody tr th:only-of-type {\n",
       "        vertical-align: middle;\n",
       "    }\n",
       "\n",
       "    .dataframe tbody tr th {\n",
       "        vertical-align: top;\n",
       "    }\n",
       "\n",
       "    .dataframe thead th {\n",
       "        text-align: right;\n",
       "    }\n",
       "</style>\n",
       "<table border=\"1\" class=\"dataframe\">\n",
       "  <thead>\n",
       "    <tr style=\"text-align: right;\">\n",
       "      <th></th>\n",
       "      <th>A_follower_count</th>\n",
       "      <th>A_following_count</th>\n",
       "      <th>A_listed_count</th>\n",
       "      <th>A_mentions_received</th>\n",
       "      <th>A_retweets_received</th>\n",
       "      <th>A_mentions_sent</th>\n",
       "      <th>A_retweets_sent</th>\n",
       "      <th>A_posts</th>\n",
       "      <th>A_network_feature_1</th>\n",
       "      <th>A_network_feature_2</th>\n",
       "      <th>A_network_feature_3</th>\n",
       "    </tr>\n",
       "  </thead>\n",
       "  <tbody>\n",
       "    <tr>\n",
       "      <th>A_follower_count</th>\n",
       "      <td>1.000000</td>\n",
       "      <td>0.115834</td>\n",
       "      <td>0.815952</td>\n",
       "      <td>0.511609</td>\n",
       "      <td>0.521888</td>\n",
       "      <td>0.018456</td>\n",
       "      <td>0.094799</td>\n",
       "      <td>0.042993</td>\n",
       "      <td>0.622146</td>\n",
       "      <td>-0.153272</td>\n",
       "      <td>-0.036082</td>\n",
       "    </tr>\n",
       "    <tr>\n",
       "      <th>A_following_count</th>\n",
       "      <td>0.115834</td>\n",
       "      <td>1.000000</td>\n",
       "      <td>0.100696</td>\n",
       "      <td>0.058140</td>\n",
       "      <td>0.051819</td>\n",
       "      <td>0.111342</td>\n",
       "      <td>-0.083883</td>\n",
       "      <td>0.138373</td>\n",
       "      <td>0.047236</td>\n",
       "      <td>0.043642</td>\n",
       "      <td>0.097762</td>\n",
       "    </tr>\n",
       "    <tr>\n",
       "      <th>A_listed_count</th>\n",
       "      <td>0.815952</td>\n",
       "      <td>0.100696</td>\n",
       "      <td>1.000000</td>\n",
       "      <td>0.734589</td>\n",
       "      <td>0.747752</td>\n",
       "      <td>0.061729</td>\n",
       "      <td>0.155630</td>\n",
       "      <td>0.053975</td>\n",
       "      <td>0.705268</td>\n",
       "      <td>-0.080056</td>\n",
       "      <td>-0.038574</td>\n",
       "    </tr>\n",
       "    <tr>\n",
       "      <th>A_mentions_received</th>\n",
       "      <td>0.511609</td>\n",
       "      <td>0.058140</td>\n",
       "      <td>0.734589</td>\n",
       "      <td>1.000000</td>\n",
       "      <td>0.990021</td>\n",
       "      <td>0.023336</td>\n",
       "      <td>0.050100</td>\n",
       "      <td>0.026512</td>\n",
       "      <td>0.922340</td>\n",
       "      <td>-0.062407</td>\n",
       "      <td>-0.038079</td>\n",
       "    </tr>\n",
       "    <tr>\n",
       "      <th>A_retweets_received</th>\n",
       "      <td>0.521888</td>\n",
       "      <td>0.051819</td>\n",
       "      <td>0.747752</td>\n",
       "      <td>0.990021</td>\n",
       "      <td>1.000000</td>\n",
       "      <td>0.019130</td>\n",
       "      <td>0.043846</td>\n",
       "      <td>0.033068</td>\n",
       "      <td>0.928273</td>\n",
       "      <td>-0.065266</td>\n",
       "      <td>-0.040301</td>\n",
       "    </tr>\n",
       "    <tr>\n",
       "      <th>A_mentions_sent</th>\n",
       "      <td>0.018456</td>\n",
       "      <td>0.111342</td>\n",
       "      <td>0.061729</td>\n",
       "      <td>0.023336</td>\n",
       "      <td>0.019130</td>\n",
       "      <td>1.000000</td>\n",
       "      <td>0.582630</td>\n",
       "      <td>0.607040</td>\n",
       "      <td>0.032608</td>\n",
       "      <td>0.064242</td>\n",
       "      <td>0.035437</td>\n",
       "    </tr>\n",
       "    <tr>\n",
       "      <th>A_retweets_sent</th>\n",
       "      <td>0.094799</td>\n",
       "      <td>-0.083883</td>\n",
       "      <td>0.155630</td>\n",
       "      <td>0.050100</td>\n",
       "      <td>0.043846</td>\n",
       "      <td>0.582630</td>\n",
       "      <td>1.000000</td>\n",
       "      <td>0.379318</td>\n",
       "      <td>0.081908</td>\n",
       "      <td>-0.048761</td>\n",
       "      <td>-0.042127</td>\n",
       "    </tr>\n",
       "    <tr>\n",
       "      <th>A_posts</th>\n",
       "      <td>0.042993</td>\n",
       "      <td>0.138373</td>\n",
       "      <td>0.053975</td>\n",
       "      <td>0.026512</td>\n",
       "      <td>0.033068</td>\n",
       "      <td>0.607040</td>\n",
       "      <td>0.379318</td>\n",
       "      <td>1.000000</td>\n",
       "      <td>0.074683</td>\n",
       "      <td>-0.066125</td>\n",
       "      <td>-0.018347</td>\n",
       "    </tr>\n",
       "    <tr>\n",
       "      <th>A_network_feature_1</th>\n",
       "      <td>0.622146</td>\n",
       "      <td>0.047236</td>\n",
       "      <td>0.705268</td>\n",
       "      <td>0.922340</td>\n",
       "      <td>0.928273</td>\n",
       "      <td>0.032608</td>\n",
       "      <td>0.081908</td>\n",
       "      <td>0.074683</td>\n",
       "      <td>1.000000</td>\n",
       "      <td>-0.118138</td>\n",
       "      <td>-0.071711</td>\n",
       "    </tr>\n",
       "    <tr>\n",
       "      <th>A_network_feature_2</th>\n",
       "      <td>-0.153272</td>\n",
       "      <td>0.043642</td>\n",
       "      <td>-0.080056</td>\n",
       "      <td>-0.062407</td>\n",
       "      <td>-0.065266</td>\n",
       "      <td>0.064242</td>\n",
       "      <td>-0.048761</td>\n",
       "      <td>-0.066125</td>\n",
       "      <td>-0.118138</td>\n",
       "      <td>1.000000</td>\n",
       "      <td>0.520617</td>\n",
       "    </tr>\n",
       "    <tr>\n",
       "      <th>A_network_feature_3</th>\n",
       "      <td>-0.036082</td>\n",
       "      <td>0.097762</td>\n",
       "      <td>-0.038574</td>\n",
       "      <td>-0.038079</td>\n",
       "      <td>-0.040301</td>\n",
       "      <td>0.035437</td>\n",
       "      <td>-0.042127</td>\n",
       "      <td>-0.018347</td>\n",
       "      <td>-0.071711</td>\n",
       "      <td>0.520617</td>\n",
       "      <td>1.000000</td>\n",
       "    </tr>\n",
       "  </tbody>\n",
       "</table>\n",
       "</div>"
      ],
      "text/plain": [
       "                     A_follower_count  A_following_count  A_listed_count  \\\n",
       "A_follower_count             1.000000           0.115834        0.815952   \n",
       "A_following_count            0.115834           1.000000        0.100696   \n",
       "A_listed_count               0.815952           0.100696        1.000000   \n",
       "A_mentions_received          0.511609           0.058140        0.734589   \n",
       "A_retweets_received          0.521888           0.051819        0.747752   \n",
       "A_mentions_sent              0.018456           0.111342        0.061729   \n",
       "A_retweets_sent              0.094799          -0.083883        0.155630   \n",
       "A_posts                      0.042993           0.138373        0.053975   \n",
       "A_network_feature_1          0.622146           0.047236        0.705268   \n",
       "A_network_feature_2         -0.153272           0.043642       -0.080056   \n",
       "A_network_feature_3         -0.036082           0.097762       -0.038574   \n",
       "\n",
       "                     A_mentions_received  A_retweets_received  \\\n",
       "A_follower_count                0.511609             0.521888   \n",
       "A_following_count               0.058140             0.051819   \n",
       "A_listed_count                  0.734589             0.747752   \n",
       "A_mentions_received             1.000000             0.990021   \n",
       "A_retweets_received             0.990021             1.000000   \n",
       "A_mentions_sent                 0.023336             0.019130   \n",
       "A_retweets_sent                 0.050100             0.043846   \n",
       "A_posts                         0.026512             0.033068   \n",
       "A_network_feature_1             0.922340             0.928273   \n",
       "A_network_feature_2            -0.062407            -0.065266   \n",
       "A_network_feature_3            -0.038079            -0.040301   \n",
       "\n",
       "                     A_mentions_sent  A_retweets_sent   A_posts  \\\n",
       "A_follower_count            0.018456         0.094799  0.042993   \n",
       "A_following_count           0.111342        -0.083883  0.138373   \n",
       "A_listed_count              0.061729         0.155630  0.053975   \n",
       "A_mentions_received         0.023336         0.050100  0.026512   \n",
       "A_retweets_received         0.019130         0.043846  0.033068   \n",
       "A_mentions_sent             1.000000         0.582630  0.607040   \n",
       "A_retweets_sent             0.582630         1.000000  0.379318   \n",
       "A_posts                     0.607040         0.379318  1.000000   \n",
       "A_network_feature_1         0.032608         0.081908  0.074683   \n",
       "A_network_feature_2         0.064242        -0.048761 -0.066125   \n",
       "A_network_feature_3         0.035437        -0.042127 -0.018347   \n",
       "\n",
       "                     A_network_feature_1  A_network_feature_2  \\\n",
       "A_follower_count                0.622146            -0.153272   \n",
       "A_following_count               0.047236             0.043642   \n",
       "A_listed_count                  0.705268            -0.080056   \n",
       "A_mentions_received             0.922340            -0.062407   \n",
       "A_retweets_received             0.928273            -0.065266   \n",
       "A_mentions_sent                 0.032608             0.064242   \n",
       "A_retweets_sent                 0.081908            -0.048761   \n",
       "A_posts                         0.074683            -0.066125   \n",
       "A_network_feature_1             1.000000            -0.118138   \n",
       "A_network_feature_2            -0.118138             1.000000   \n",
       "A_network_feature_3            -0.071711             0.520617   \n",
       "\n",
       "                     A_network_feature_3  \n",
       "A_follower_count               -0.036082  \n",
       "A_following_count               0.097762  \n",
       "A_listed_count                 -0.038574  \n",
       "A_mentions_received            -0.038079  \n",
       "A_retweets_received            -0.040301  \n",
       "A_mentions_sent                 0.035437  \n",
       "A_retweets_sent                -0.042127  \n",
       "A_posts                        -0.018347  \n",
       "A_network_feature_1            -0.071711  \n",
       "A_network_feature_2             0.520617  \n",
       "A_network_feature_3             1.000000  "
      ]
     },
     "execution_count": 7,
     "metadata": {
      "tags": []
     },
     "output_type": "execute_result"
    }
   ],
   "source": [
    "corr\n"
   ]
  },
  {
   "cell_type": "code",
   "execution_count": null,
   "metadata": {
    "id": "applied-leader"
   },
   "outputs": [],
   "source": [
    "# drop mentions_received and network_feature, keep retweets_received. Mentions_received and network_feature are highly correlated\n",
    "# with other predictors based on the correlation matrix above. \n",
    "df = data.drop(['A_mentions_received','A_network_feature_1','B_mentions_received','B_network_feature_1'],axis = 1)"
   ]
  },
  {
   "cell_type": "code",
   "execution_count": null,
   "metadata": {
    "colab": {
     "base_uri": "https://localhost:8080/",
     "height": 439
    },
    "id": "vanilla-processing",
    "outputId": "f2efe74a-2341-4b40-acfe-7e9502e3abff"
   },
   "outputs": [
    {
     "data": {
      "text/html": [
       "<div>\n",
       "<style scoped>\n",
       "    .dataframe tbody tr th:only-of-type {\n",
       "        vertical-align: middle;\n",
       "    }\n",
       "\n",
       "    .dataframe tbody tr th {\n",
       "        vertical-align: top;\n",
       "    }\n",
       "\n",
       "    .dataframe thead th {\n",
       "        text-align: right;\n",
       "    }\n",
       "</style>\n",
       "<table border=\"1\" class=\"dataframe\">\n",
       "  <thead>\n",
       "    <tr style=\"text-align: right;\">\n",
       "      <th></th>\n",
       "      <th>A_follower_count</th>\n",
       "      <th>A_following_count</th>\n",
       "      <th>A_listed_count</th>\n",
       "      <th>A_retweets_received</th>\n",
       "      <th>A_mentions_sent</th>\n",
       "      <th>A_retweets_sent</th>\n",
       "      <th>A_posts</th>\n",
       "      <th>A_network_feature_2</th>\n",
       "      <th>A_network_feature_3</th>\n",
       "    </tr>\n",
       "  </thead>\n",
       "  <tbody>\n",
       "    <tr>\n",
       "      <th>0</th>\n",
       "      <td>228</td>\n",
       "      <td>302</td>\n",
       "      <td>3</td>\n",
       "      <td>0.100503</td>\n",
       "      <td>0.100503</td>\n",
       "      <td>0.100503</td>\n",
       "      <td>0.362150</td>\n",
       "      <td>166.500000</td>\n",
       "      <td>11355.000000</td>\n",
       "    </tr>\n",
       "    <tr>\n",
       "      <th>1</th>\n",
       "      <td>21591</td>\n",
       "      <td>1179</td>\n",
       "      <td>228</td>\n",
       "      <td>25.798292</td>\n",
       "      <td>5.709329</td>\n",
       "      <td>1.111159</td>\n",
       "      <td>5.176620</td>\n",
       "      <td>18.442971</td>\n",
       "      <td>1330.366048</td>\n",
       "    </tr>\n",
       "    <tr>\n",
       "      <th>2</th>\n",
       "      <td>7310</td>\n",
       "      <td>1215</td>\n",
       "      <td>101</td>\n",
       "      <td>9.556347</td>\n",
       "      <td>5.361519</td>\n",
       "      <td>0.591206</td>\n",
       "      <td>3.589718</td>\n",
       "      <td>68.927835</td>\n",
       "      <td>5999.896907</td>\n",
       "    </tr>\n",
       "    <tr>\n",
       "      <th>3</th>\n",
       "      <td>20</td>\n",
       "      <td>7</td>\n",
       "      <td>2</td>\n",
       "      <td>0.277306</td>\n",
       "      <td>1.331508</td>\n",
       "      <td>0.100503</td>\n",
       "      <td>2.830627</td>\n",
       "      <td>2.000000</td>\n",
       "      <td>96.166667</td>\n",
       "    </tr>\n",
       "    <tr>\n",
       "      <th>4</th>\n",
       "      <td>45589</td>\n",
       "      <td>862</td>\n",
       "      <td>2641</td>\n",
       "      <td>36.998884</td>\n",
       "      <td>27.881768</td>\n",
       "      <td>3.333492</td>\n",
       "      <td>23.861282</td>\n",
       "      <td>127.404293</td>\n",
       "      <td>2833.847943</td>\n",
       "    </tr>\n",
       "    <tr>\n",
       "      <th>...</th>\n",
       "      <td>...</td>\n",
       "      <td>...</td>\n",
       "      <td>...</td>\n",
       "      <td>...</td>\n",
       "      <td>...</td>\n",
       "      <td>...</td>\n",
       "      <td>...</td>\n",
       "      <td>...</td>\n",
       "      <td>...</td>\n",
       "    </tr>\n",
       "    <tr>\n",
       "      <th>5495</th>\n",
       "      <td>41765</td>\n",
       "      <td>185</td>\n",
       "      <td>1356</td>\n",
       "      <td>282.858500</td>\n",
       "      <td>76.809514</td>\n",
       "      <td>5.392171</td>\n",
       "      <td>104.438625</td>\n",
       "      <td>50.132042</td>\n",
       "      <td>3585.789866</td>\n",
       "    </tr>\n",
       "    <tr>\n",
       "      <th>5496</th>\n",
       "      <td>112</td>\n",
       "      <td>243</td>\n",
       "      <td>5</td>\n",
       "      <td>0.100503</td>\n",
       "      <td>0.100503</td>\n",
       "      <td>0.100503</td>\n",
       "      <td>0.603177</td>\n",
       "      <td>96.600000</td>\n",
       "      <td>1414.200000</td>\n",
       "    </tr>\n",
       "    <tr>\n",
       "      <th>5497</th>\n",
       "      <td>15385</td>\n",
       "      <td>673</td>\n",
       "      <td>747</td>\n",
       "      <td>22.321945</td>\n",
       "      <td>6.946233</td>\n",
       "      <td>0.341936</td>\n",
       "      <td>6.503977</td>\n",
       "      <td>152.495098</td>\n",
       "      <td>3286.617647</td>\n",
       "    </tr>\n",
       "    <tr>\n",
       "      <th>5498</th>\n",
       "      <td>265258</td>\n",
       "      <td>209</td>\n",
       "      <td>551</td>\n",
       "      <td>457.648550</td>\n",
       "      <td>5.460985</td>\n",
       "      <td>0.100503</td>\n",
       "      <td>7.498126</td>\n",
       "      <td>3.826314</td>\n",
       "      <td>506.692136</td>\n",
       "    </tr>\n",
       "    <tr>\n",
       "      <th>5499</th>\n",
       "      <td>628</td>\n",
       "      <td>921</td>\n",
       "      <td>6</td>\n",
       "      <td>0.618590</td>\n",
       "      <td>4.769930</td>\n",
       "      <td>0.870136</td>\n",
       "      <td>2.953237</td>\n",
       "      <td>210.625000</td>\n",
       "      <td>14027.500000</td>\n",
       "    </tr>\n",
       "  </tbody>\n",
       "</table>\n",
       "<p>5500 rows × 9 columns</p>\n",
       "</div>"
      ],
      "text/plain": [
       "      A_follower_count  A_following_count  A_listed_count  \\\n",
       "0                  228                302               3   \n",
       "1                21591               1179             228   \n",
       "2                 7310               1215             101   \n",
       "3                   20                  7               2   \n",
       "4                45589                862            2641   \n",
       "...                ...                ...             ...   \n",
       "5495             41765                185            1356   \n",
       "5496               112                243               5   \n",
       "5497             15385                673             747   \n",
       "5498            265258                209             551   \n",
       "5499               628                921               6   \n",
       "\n",
       "      A_retweets_received  A_mentions_sent  A_retweets_sent     A_posts  \\\n",
       "0                0.100503         0.100503         0.100503    0.362150   \n",
       "1               25.798292         5.709329         1.111159    5.176620   \n",
       "2                9.556347         5.361519         0.591206    3.589718   \n",
       "3                0.277306         1.331508         0.100503    2.830627   \n",
       "4               36.998884        27.881768         3.333492   23.861282   \n",
       "...                   ...              ...              ...         ...   \n",
       "5495           282.858500        76.809514         5.392171  104.438625   \n",
       "5496             0.100503         0.100503         0.100503    0.603177   \n",
       "5497            22.321945         6.946233         0.341936    6.503977   \n",
       "5498           457.648550         5.460985         0.100503    7.498126   \n",
       "5499             0.618590         4.769930         0.870136    2.953237   \n",
       "\n",
       "      A_network_feature_2  A_network_feature_3  \n",
       "0              166.500000         11355.000000  \n",
       "1               18.442971          1330.366048  \n",
       "2               68.927835          5999.896907  \n",
       "3                2.000000            96.166667  \n",
       "4              127.404293          2833.847943  \n",
       "...                   ...                  ...  \n",
       "5495            50.132042          3585.789866  \n",
       "5496            96.600000          1414.200000  \n",
       "5497           152.495098          3286.617647  \n",
       "5498             3.826314           506.692136  \n",
       "5499           210.625000         14027.500000  \n",
       "\n",
       "[5500 rows x 9 columns]"
      ]
     },
     "execution_count": 9,
     "metadata": {
      "tags": []
     },
     "output_type": "execute_result"
    }
   ],
   "source": [
    "df.iloc[:,1:10]"
   ]
  },
  {
   "cell_type": "code",
   "execution_count": null,
   "metadata": {
    "colab": {
     "base_uri": "https://localhost:8080/",
     "height": 439
    },
    "id": "grand-karen",
    "outputId": "25531151-182c-4b63-e81c-ef261b84d25e"
   },
   "outputs": [
    {
     "data": {
      "text/html": [
       "<div>\n",
       "<style scoped>\n",
       "    .dataframe tbody tr th:only-of-type {\n",
       "        vertical-align: middle;\n",
       "    }\n",
       "\n",
       "    .dataframe tbody tr th {\n",
       "        vertical-align: top;\n",
       "    }\n",
       "\n",
       "    .dataframe thead th {\n",
       "        text-align: right;\n",
       "    }\n",
       "</style>\n",
       "<table border=\"1\" class=\"dataframe\">\n",
       "  <thead>\n",
       "    <tr style=\"text-align: right;\">\n",
       "      <th></th>\n",
       "      <th>B_follower_count</th>\n",
       "      <th>B_following_count</th>\n",
       "      <th>B_listed_count</th>\n",
       "      <th>B_retweets_received</th>\n",
       "      <th>B_mentions_sent</th>\n",
       "      <th>B_retweets_sent</th>\n",
       "      <th>B_posts</th>\n",
       "      <th>B_network_feature_2</th>\n",
       "      <th>B_network_feature_3</th>\n",
       "    </tr>\n",
       "  </thead>\n",
       "  <tbody>\n",
       "    <tr>\n",
       "      <th>0</th>\n",
       "      <td>34463</td>\n",
       "      <td>29808</td>\n",
       "      <td>1689</td>\n",
       "      <td>3.984029</td>\n",
       "      <td>8.204331</td>\n",
       "      <td>0.332423</td>\n",
       "      <td>6.988815</td>\n",
       "      <td>75.530303</td>\n",
       "      <td>1916.893939</td>\n",
       "    </tr>\n",
       "    <tr>\n",
       "      <th>1</th>\n",
       "      <td>39262</td>\n",
       "      <td>848</td>\n",
       "      <td>1610</td>\n",
       "      <td>8.943607</td>\n",
       "      <td>3.227677</td>\n",
       "      <td>0.564343</td>\n",
       "      <td>1.070321</td>\n",
       "      <td>132.030675</td>\n",
       "      <td>2931.515337</td>\n",
       "    </tr>\n",
       "    <tr>\n",
       "      <th>2</th>\n",
       "      <td>3622</td>\n",
       "      <td>482</td>\n",
       "      <td>206</td>\n",
       "      <td>0.354379</td>\n",
       "      <td>0.603202</td>\n",
       "      <td>0.100503</td>\n",
       "      <td>0.603202</td>\n",
       "      <td>10.333333</td>\n",
       "      <td>277.333333</td>\n",
       "    </tr>\n",
       "    <tr>\n",
       "      <th>3</th>\n",
       "      <td>19562</td>\n",
       "      <td>17637</td>\n",
       "      <td>278</td>\n",
       "      <td>390.293681</td>\n",
       "      <td>27.552040</td>\n",
       "      <td>7.167557</td>\n",
       "      <td>32.101906</td>\n",
       "      <td>23.469296</td>\n",
       "      <td>1395.845634</td>\n",
       "    </tr>\n",
       "    <tr>\n",
       "      <th>4</th>\n",
       "      <td>7554</td>\n",
       "      <td>1711</td>\n",
       "      <td>181</td>\n",
       "      <td>3.581661</td>\n",
       "      <td>6.764657</td>\n",
       "      <td>1.119727</td>\n",
       "      <td>4.563246</td>\n",
       "      <td>48.500000</td>\n",
       "      <td>1993.627907</td>\n",
       "    </tr>\n",
       "    <tr>\n",
       "      <th>...</th>\n",
       "      <td>...</td>\n",
       "      <td>...</td>\n",
       "      <td>...</td>\n",
       "      <td>...</td>\n",
       "      <td>...</td>\n",
       "      <td>...</td>\n",
       "      <td>...</td>\n",
       "      <td>...</td>\n",
       "      <td>...</td>\n",
       "    </tr>\n",
       "    <tr>\n",
       "      <th>5495</th>\n",
       "      <td>804394</td>\n",
       "      <td>1370</td>\n",
       "      <td>15143</td>\n",
       "      <td>5013.642295</td>\n",
       "      <td>22.683131</td>\n",
       "      <td>2.385538</td>\n",
       "      <td>18.420981</td>\n",
       "      <td>21.324988</td>\n",
       "      <td>1413.825398</td>\n",
       "    </tr>\n",
       "    <tr>\n",
       "      <th>5496</th>\n",
       "      <td>794</td>\n",
       "      <td>479</td>\n",
       "      <td>8</td>\n",
       "      <td>0.306073</td>\n",
       "      <td>0.100503</td>\n",
       "      <td>0.100503</td>\n",
       "      <td>1.621981</td>\n",
       "      <td>49.000000</td>\n",
       "      <td>4969.000000</td>\n",
       "    </tr>\n",
       "    <tr>\n",
       "      <th>5497</th>\n",
       "      <td>7554</td>\n",
       "      <td>1711</td>\n",
       "      <td>181</td>\n",
       "      <td>3.581661</td>\n",
       "      <td>6.764657</td>\n",
       "      <td>1.119727</td>\n",
       "      <td>4.563246</td>\n",
       "      <td>48.500000</td>\n",
       "      <td>1993.627907</td>\n",
       "    </tr>\n",
       "    <tr>\n",
       "      <th>5498</th>\n",
       "      <td>322682</td>\n",
       "      <td>37601</td>\n",
       "      <td>22232</td>\n",
       "      <td>42.330221</td>\n",
       "      <td>6.849227</td>\n",
       "      <td>1.345073</td>\n",
       "      <td>4.359865</td>\n",
       "      <td>234.338068</td>\n",
       "      <td>7168.464489</td>\n",
       "    </tr>\n",
       "    <tr>\n",
       "      <th>5499</th>\n",
       "      <td>504004</td>\n",
       "      <td>3109</td>\n",
       "      <td>12772</td>\n",
       "      <td>142.633229</td>\n",
       "      <td>4.486090</td>\n",
       "      <td>1.049408</td>\n",
       "      <td>4.806823</td>\n",
       "      <td>48.532819</td>\n",
       "      <td>1554.489575</td>\n",
       "    </tr>\n",
       "  </tbody>\n",
       "</table>\n",
       "<p>5500 rows × 9 columns</p>\n",
       "</div>"
      ],
      "text/plain": [
       "      B_follower_count  B_following_count  B_listed_count  \\\n",
       "0                34463              29808            1689   \n",
       "1                39262                848            1610   \n",
       "2                 3622                482             206   \n",
       "3                19562              17637             278   \n",
       "4                 7554               1711             181   \n",
       "...                ...                ...             ...   \n",
       "5495            804394               1370           15143   \n",
       "5496               794                479               8   \n",
       "5497              7554               1711             181   \n",
       "5498            322682              37601           22232   \n",
       "5499            504004               3109           12772   \n",
       "\n",
       "      B_retweets_received  B_mentions_sent  B_retweets_sent    B_posts  \\\n",
       "0                3.984029         8.204331         0.332423   6.988815   \n",
       "1                8.943607         3.227677         0.564343   1.070321   \n",
       "2                0.354379         0.603202         0.100503   0.603202   \n",
       "3              390.293681        27.552040         7.167557  32.101906   \n",
       "4                3.581661         6.764657         1.119727   4.563246   \n",
       "...                   ...              ...              ...        ...   \n",
       "5495          5013.642295        22.683131         2.385538  18.420981   \n",
       "5496             0.306073         0.100503         0.100503   1.621981   \n",
       "5497             3.581661         6.764657         1.119727   4.563246   \n",
       "5498            42.330221         6.849227         1.345073   4.359865   \n",
       "5499           142.633229         4.486090         1.049408   4.806823   \n",
       "\n",
       "      B_network_feature_2  B_network_feature_3  \n",
       "0               75.530303          1916.893939  \n",
       "1              132.030675          2931.515337  \n",
       "2               10.333333           277.333333  \n",
       "3               23.469296          1395.845634  \n",
       "4               48.500000          1993.627907  \n",
       "...                   ...                  ...  \n",
       "5495            21.324988          1413.825398  \n",
       "5496            49.000000          4969.000000  \n",
       "5497            48.500000          1993.627907  \n",
       "5498           234.338068          7168.464489  \n",
       "5499            48.532819          1554.489575  \n",
       "\n",
       "[5500 rows x 9 columns]"
      ]
     },
     "execution_count": 10,
     "metadata": {
      "tags": []
     },
     "output_type": "execute_result"
    }
   ],
   "source": [
    "df.iloc[:,10:19]"
   ]
  },
  {
   "cell_type": "code",
   "execution_count": null,
   "metadata": {
    "colab": {
     "base_uri": "https://localhost:8080/"
    },
    "id": "stainless-subject",
    "outputId": "78234208-1632-40af-cfd5-3faa58452626"
   },
   "outputs": [
    {
     "data": {
      "text/plain": [
       "False"
      ]
     },
     "execution_count": 11,
     "metadata": {
      "tags": []
     },
     "output_type": "execute_result"
    }
   ],
   "source": [
    "# test A-B, the best. Creating features that capture the differences between Person A and Person B's stats\n",
    "x = pd.DataFrame(df.iloc[:,1:10].values - df.iloc[:,10:19].values)\n",
    "x.columns = ['A/B_follower_count','A/B_following_count','A/B_listed_count','A/B_retweets_received','A/B_mentions_sent',\n",
    "              'A/B_retweets_sent','A/B_posts','A/B_network_feature_2','A/B_network_feature_3']\n",
    "y= data['Choice']\n",
    "x.isnull().values.any()"
   ]
  },
  {
   "cell_type": "code",
   "execution_count": null,
   "metadata": {
    "id": "minimal-allen"
   },
   "outputs": [],
   "source": [
    "# split data into train and test, with 30% of data used for testing\n",
    "from sklearn.model_selection import train_test_split\n",
    "\n",
    "x_train, x_test, y_train, y_test = train_test_split(x, y, test_size = 0.3, random_state = 0)\n"
   ]
  },
  {
   "cell_type": "code",
   "execution_count": null,
   "metadata": {
    "colab": {
     "base_uri": "https://localhost:8080/"
    },
    "id": "ranging-pitch",
    "outputId": "33b9489e-d24b-4163-f5de-a492f74bf2a8"
   },
   "outputs": [
    {
     "name": "stderr",
     "output_type": "stream",
     "text": [
      "/usr/local/lib/python3.6/dist-packages/statsmodels/tools/_testing.py:19: FutureWarning: pandas.util.testing is deprecated. Use the functions in the public API at pandas.testing instead.\n",
      "  import pandas.util.testing as tm\n"
     ]
    },
    {
     "name": "stdout",
     "output_type": "stream",
     "text": [
      "Optimization terminated successfully.\n",
      "         Current function value: 0.576259\n",
      "         Iterations 7\n",
      "                           Results: Logit\n",
      "====================================================================\n",
      "Model:                Logit            Pseudo R-squared: 0.168      \n",
      "Dependent Variable:   Choice           AIC:              4455.1941  \n",
      "Date:                 2021-02-08 00:25 BIC:              4511.4965  \n",
      "No. Observations:     3850             Log-Likelihood:   -2218.6    \n",
      "Df Model:             8                LL-Null:          -2667.0    \n",
      "Df Residuals:         3841             LLR p-value:      2.7945e-188\n",
      "Converged:            1.0000           Scale:            1.0000     \n",
      "No. Iterations:       7.0000                                        \n",
      "--------------------------------------------------------------------\n",
      "                       Coef.  Std.Err.    z    P>|z|   [0.025 0.975]\n",
      "--------------------------------------------------------------------\n",
      "A/B_follower_count    -0.0000   0.0000 -1.5098 0.1311 -0.0000 0.0000\n",
      "A/B_following_count    0.0000   0.0000  1.8743 0.0609 -0.0000 0.0000\n",
      "A/B_listed_count       0.0001   0.0000 15.7648 0.0000  0.0001 0.0001\n",
      "A/B_retweets_received -0.0000   0.0000 -0.4775 0.6330 -0.0000 0.0000\n",
      "A/B_mentions_sent      0.0091   0.0040  2.2486 0.0245  0.0012 0.0170\n",
      "A/B_retweets_sent      0.1034   0.0201  5.1383 0.0000  0.0640 0.1429\n",
      "A/B_posts              0.0041   0.0019  2.2012 0.0277  0.0004 0.0078\n",
      "A/B_network_feature_2  0.0010   0.0003  3.2019 0.0014  0.0004 0.0016\n",
      "A/B_network_feature_3  0.0000   0.0000  4.9668 0.0000  0.0000 0.0000\n",
      "====================================================================\n",
      "\n"
     ]
    }
   ],
   "source": [
    "# logistic regression modeling which person (A or B) is the influencer\n",
    "import statsmodels.api as sm\n",
    "logit_model=sm.Logit(y_train,x_train)\n",
    "result=logit_model.fit()\n",
    "print(result.summary2())"
   ]
  },
  {
   "cell_type": "code",
   "execution_count": null,
   "metadata": {
    "colab": {
     "base_uri": "https://localhost:8080/"
    },
    "id": "ordered-prince",
    "outputId": "d50cd577-cb2b-4ced-e54f-537ad3afdb1e"
   },
   "outputs": [
    {
     "name": "stdout",
     "output_type": "stream",
     "text": [
      "[False False  True False  True  True  True  True False]\n",
      "[5 4 1 3 1 1 1 1 2]\n",
      "Training Accuracy : 0.7350649350649351\n",
      "Testing Accuracy : 0.7436363636363637\n"
     ]
    },
    {
     "name": "stderr",
     "output_type": "stream",
     "text": [
      "/usr/local/lib/python3.6/dist-packages/sklearn/linear_model/_logistic.py:940: ConvergenceWarning: lbfgs failed to converge (status=1):\n",
      "STOP: TOTAL NO. of ITERATIONS REACHED LIMIT.\n",
      "\n",
      "Increase the number of iterations (max_iter) or scale the data as shown in:\n",
      "    https://scikit-learn.org/stable/modules/preprocessing.html\n",
      "Please also refer to the documentation for alternative solver options:\n",
      "    https://scikit-learn.org/stable/modules/linear_model.html#logistic-regression\n",
      "  extra_warning_msg=_LOGISTIC_SOLVER_CONVERGENCE_MSG)\n"
     ]
    },
    {
     "data": {
      "text/plain": [
       "array([[595, 234],\n",
       "       [189, 632]])"
      ]
     },
     "execution_count": 16,
     "metadata": {
      "tags": []
     },
     "output_type": "execute_result"
    }
   ],
   "source": [
    "from sklearn.linear_model import LogisticRegression\n",
    "from sklearn.metrics import confusion_matrix, classification_report, roc_auc_score\n",
    "from sklearn.feature_selection import RFE\n",
    "\n",
    "clf = LogisticRegression()\n",
    "clf = RFE(clf, 5)\n",
    "clf.fit(x_train,y_train)\n",
    "print(clf.support_)\n",
    "print(clf.ranking_)\n",
    "\n",
    "y_pred = clf.predict(x_test)\n",
    "print(\"Training Accuracy :\", clf.score(x_train, y_train))\n",
    "print(\"Testing Accuracy :\", clf.score(x_test, y_test))\n",
    "\n",
    "confusion_matrix(y_test, y_pred)\n",
    "\n",
    "# Logistic Regression model results in about 74.36% testing accuracy "
   ]
  },
  {
   "cell_type": "code",
   "execution_count": null,
   "metadata": {
    "colab": {
     "base_uri": "https://localhost:8080/"
    },
    "id": "choice-exposure",
    "outputId": "dd379f71-7409-4b32-ed8b-d6554f58db58"
   },
   "outputs": [
    {
     "name": "stdout",
     "output_type": "stream",
     "text": [
      "              precision    recall  f1-score   support\n",
      "\n",
      "           0       0.76      0.72      0.74       829\n",
      "           1       0.73      0.77      0.75       821\n",
      "\n",
      "    accuracy                           0.74      1650\n",
      "   macro avg       0.74      0.74      0.74      1650\n",
      "weighted avg       0.74      0.74      0.74      1650\n",
      "\n"
     ]
    },
    {
     "data": {
      "text/plain": [
       "0.743762571461735"
      ]
     },
     "execution_count": 17,
     "metadata": {
      "tags": []
     },
     "output_type": "execute_result"
    }
   ],
   "source": [
    "print(classification_report(y_test, y_pred))\n",
    "roc_auc_score(y_test, y_pred)"
   ]
  },
  {
   "cell_type": "code",
   "execution_count": null,
   "metadata": {
    "colab": {
     "base_uri": "https://localhost:8080/"
    },
    "id": "approximate-deputy",
    "outputId": "3cd0346c-54d5-48d9-a664-d144c7fd725a"
   },
   "outputs": [
    {
     "name": "stdout",
     "output_type": "stream",
     "text": [
      "Optimization terminated successfully.\n",
      "         Current function value: 0.580835\n",
      "         Iterations 7\n",
      "                          Results: Logit\n",
      "==================================================================\n",
      "Model:              Logit            Pseudo R-squared: 0.162      \n",
      "Dependent Variable: Choice           AIC:              4482.4268  \n",
      "Date:               2021-02-08 00:26 BIC:              4513.7059  \n",
      "No. Observations:   3850             Log-Likelihood:   -2236.2    \n",
      "Df Model:           4                LL-Null:          -2667.0    \n",
      "Df Residuals:       3845             LLR p-value:      3.5687e-185\n",
      "Converged:          1.0000           Scale:            1.0000     \n",
      "No. Iterations:     7.0000                                        \n",
      "------------------------------------------------------------------\n",
      "                      Coef.  Std.Err.    z    P>|z|  [0.025 0.975]\n",
      "------------------------------------------------------------------\n",
      "A/B_listed_count      0.0001   0.0000 19.0386 0.0000 0.0001 0.0001\n",
      "A/B_mentions_sent     0.0103   0.0040  2.5988 0.0094 0.0025 0.0182\n",
      "A/B_retweets_sent     0.0934   0.0197  4.7415 0.0000 0.0548 0.1320\n",
      "A/B_posts             0.0041   0.0018  2.2482 0.0246 0.0005 0.0077\n",
      "A/B_network_feature_2 0.0018   0.0003  7.1188 0.0000 0.0013 0.0023\n",
      "==================================================================\n",
      "\n"
     ]
    }
   ],
   "source": [
    "# Improving upon our Logistic Regression Model \n",
    "# select out the five important feature in logistic regression\n",
    "\n",
    "cols = ['A/B_listed_count','A/B_mentions_sent','A/B_retweets_sent','A/B_posts','A/B_network_feature_2']\n",
    "x_train2=x_train[cols]\n",
    "x_test2=x_test[cols]\n",
    "\n",
    "logit_model=sm.Logit(y_train,x_train2)\n",
    "result=logit_model.fit()\n",
    "print(result.summary2())"
   ]
  },
  {
   "cell_type": "markdown",
   "metadata": {
    "id": "8AdpAq78CiN2"
   },
   "source": [
    "The most important features for determining influence according to Logistic Regression are:\n",
    "\n",
    "\n",
    "*   Difference in retweets sent\n",
    "*   Difference in mentions sent\n",
    "*   Difference in posts\n",
    "*  Difference in network feature 2 (assumed to be betweenness) \n",
    "*  Difference in listed count\n",
    "\n"
   ]
  },
  {
   "cell_type": "markdown",
   "metadata": {
    "id": "WHmlE6YACb7g"
   },
   "source": [
    "**Confusion matrix of best model (using Logistic Regression) is shown below:**"
   ]
  },
  {
   "cell_type": "code",
   "execution_count": null,
   "metadata": {
    "colab": {
     "base_uri": "https://localhost:8080/"
    },
    "id": "magnetic-broadcasting",
    "outputId": "cefcc03b-0f08-4ab9-c7d5-ee0adc431fdd"
   },
   "outputs": [
    {
     "name": "stdout",
     "output_type": "stream",
     "text": [
      "Training Accuracy : 0.7350649350649351\n",
      "Testing Accuracy : 0.7436363636363637\n"
     ]
    },
    {
     "data": {
      "text/plain": [
       "array([[595, 234],\n",
       "       [189, 632]])"
      ]
     },
     "execution_count": 19,
     "metadata": {
      "tags": []
     },
     "output_type": "execute_result"
    }
   ],
   "source": [
    "clf = LogisticRegression()\n",
    "clf.fit(x_train2,y_train)\n",
    "\n",
    "y_pred = clf.predict(x_test2)\n",
    "print(\"Training Accuracy :\", clf.score(x_train2, y_train))\n",
    "print(\"Testing Accuracy :\", clf.score(x_test2, y_test))\n",
    "\n",
    "confusion_matrix(y_test, y_pred)\n",
    "\n",
    "# With just the first 5 features, we stay at about 74.36% testing accuracy"
   ]
  },
  {
   "cell_type": "code",
   "execution_count": null,
   "metadata": {
    "colab": {
     "base_uri": "https://localhost:8080/"
    },
    "id": "straight-times",
    "outputId": "a32c78ac-2621-4dc4-d8fe-921ed1f7c1d5"
   },
   "outputs": [
    {
     "name": "stdout",
     "output_type": "stream",
     "text": [
      "Training Accuracy : 0.9937662337662337\n",
      "Testing Accuracy : 0.7696969696969697\n"
     ]
    },
    {
     "data": {
      "text/plain": [
       "array([[619, 210],\n",
       "       [170, 651]])"
      ]
     },
     "execution_count": 20,
     "metadata": {
      "tags": []
     },
     "output_type": "execute_result"
    }
   ],
   "source": [
    "# Attempting other classification models \n",
    "# Random forest\n",
    "\n",
    "from sklearn.ensemble import RandomForestClassifier\n",
    "\n",
    "model = RandomForestClassifier()\n",
    "model.fit(x_train, y_train)\n",
    "\n",
    "y_pred = model.predict(x_test)\n",
    "\n",
    "print(\"Training Accuracy :\", model.score(x_train, y_train))\n",
    "print(\"Testing Accuracy :\", model.score(x_test, y_test))\n",
    "\n",
    "confusion_matrix(y_test, y_pred)\n",
    "\n",
    "# Random Forest performs better with 76.97% testing accuracy"
   ]
  },
  {
   "cell_type": "code",
   "execution_count": null,
   "metadata": {
    "colab": {
     "base_uri": "https://localhost:8080/"
    },
    "id": "potential-february",
    "outputId": "82c3da48-60cf-4660-c650-6a91f74fa2f0"
   },
   "outputs": [
    {
     "name": "stdout",
     "output_type": "stream",
     "text": [
      "              precision    recall  f1-score   support\n",
      "\n",
      "           0       0.78      0.75      0.77       829\n",
      "           1       0.76      0.79      0.77       821\n",
      "\n",
      "    accuracy                           0.77      1650\n",
      "   macro avg       0.77      0.77      0.77      1650\n",
      "weighted avg       0.77      0.77      0.77      1650\n",
      "\n"
     ]
    },
    {
     "data": {
      "text/plain": [
       "0.7698090974406745"
      ]
     },
     "execution_count": 21,
     "metadata": {
      "tags": []
     },
     "output_type": "execute_result"
    }
   ],
   "source": [
    "print(classification_report(y_test, y_pred))\n",
    "roc_auc_score(y_test, y_pred)"
   ]
  },
  {
   "cell_type": "code",
   "execution_count": null,
   "metadata": {
    "colab": {
     "base_uri": "https://localhost:8080/",
     "height": 328
    },
    "id": "informed-machine",
    "outputId": "6c9c91bc-a0bc-45fc-e1c1-d0ecf826b2b4"
   },
   "outputs": [
    {
     "data": {
      "text/html": [
       "<div>\n",
       "<style scoped>\n",
       "    .dataframe tbody tr th:only-of-type {\n",
       "        vertical-align: middle;\n",
       "    }\n",
       "\n",
       "    .dataframe tbody tr th {\n",
       "        vertical-align: top;\n",
       "    }\n",
       "\n",
       "    .dataframe thead th {\n",
       "        text-align: right;\n",
       "    }\n",
       "</style>\n",
       "<table border=\"1\" class=\"dataframe\">\n",
       "  <thead>\n",
       "    <tr style=\"text-align: right;\">\n",
       "      <th></th>\n",
       "      <th>importance</th>\n",
       "    </tr>\n",
       "  </thead>\n",
       "  <tbody>\n",
       "    <tr>\n",
       "      <th>A/B_listed_count</th>\n",
       "      <td>0.221703</td>\n",
       "    </tr>\n",
       "    <tr>\n",
       "      <th>A/B_follower_count</th>\n",
       "      <td>0.169755</td>\n",
       "    </tr>\n",
       "    <tr>\n",
       "      <th>A/B_retweets_received</th>\n",
       "      <td>0.142580</td>\n",
       "    </tr>\n",
       "    <tr>\n",
       "      <th>A/B_mentions_sent</th>\n",
       "      <td>0.082307</td>\n",
       "    </tr>\n",
       "    <tr>\n",
       "      <th>A/B_network_feature_2</th>\n",
       "      <td>0.082045</td>\n",
       "    </tr>\n",
       "    <tr>\n",
       "      <th>A/B_posts</th>\n",
       "      <td>0.081357</td>\n",
       "    </tr>\n",
       "    <tr>\n",
       "      <th>A/B_network_feature_3</th>\n",
       "      <td>0.077641</td>\n",
       "    </tr>\n",
       "    <tr>\n",
       "      <th>A/B_following_count</th>\n",
       "      <td>0.076845</td>\n",
       "    </tr>\n",
       "    <tr>\n",
       "      <th>A/B_retweets_sent</th>\n",
       "      <td>0.065767</td>\n",
       "    </tr>\n",
       "  </tbody>\n",
       "</table>\n",
       "</div>"
      ],
      "text/plain": [
       "                       importance\n",
       "A/B_listed_count         0.221703\n",
       "A/B_follower_count       0.169755\n",
       "A/B_retweets_received    0.142580\n",
       "A/B_mentions_sent        0.082307\n",
       "A/B_network_feature_2    0.082045\n",
       "A/B_posts                0.081357\n",
       "A/B_network_feature_3    0.077641\n",
       "A/B_following_count      0.076845\n",
       "A/B_retweets_sent        0.065767"
      ]
     },
     "execution_count": 22,
     "metadata": {
      "tags": []
     },
     "output_type": "execute_result"
    }
   ],
   "source": [
    "feature_importances = pd.DataFrame(model.feature_importances_,\n",
    "                                   index = x_train.columns,\n",
    "                                    columns=['importance']).sort_values('importance', ascending=False)\n",
    "feature_importances\n",
    "\n",
    "# The most important features in the model are A-B's listed_count and follower_count"
   ]
  },
  {
   "cell_type": "code",
   "execution_count": null,
   "metadata": {
    "colab": {
     "base_uri": "https://localhost:8080/"
    },
    "id": "complicated-defeat",
    "outputId": "417dc1f6-3ba1-4ed6-e195-c5e700176d64"
   },
   "outputs": [
    {
     "name": "stdout",
     "output_type": "stream",
     "text": [
      "Training Accuracy : 0.9937662337662337\n",
      "Testing Accuracy : 0.7660606060606061\n"
     ]
    },
    {
     "data": {
      "text/plain": [
       "array([[614, 215],\n",
       "       [171, 650]])"
      ]
     },
     "execution_count": 23,
     "metadata": {
      "tags": []
     },
     "output_type": "execute_result"
    }
   ],
   "source": [
    "# Attempting to improve model by reducing number of features\n",
    "# select features with importance score larger than 0.08\n",
    "\n",
    "cols = ['A/B_listed_count','A/B_follower_count','A/B_retweets_received','A/B_posts','A/B_mentions_sent','A/B_network_feature_2']\n",
    "x_train3 = x_train[cols]\n",
    "x_test3 = x_test[cols]\n",
    "\n",
    "model = RandomForestClassifier()\n",
    "model.fit(x_train3, y_train)\n",
    "\n",
    "y_pred = model.predict(x_test3)\n",
    "\n",
    "print(\"Training Accuracy :\", model.score(x_train3, y_train))\n",
    "print(\"Testing Accuracy :\", model.score(x_test3, y_test))\n",
    "\n",
    "confusion_matrix(y_test, y_pred)\n",
    "\n",
    "# Performance on testing set falls slightly to 76.6% accuracy"
   ]
  },
  {
   "cell_type": "code",
   "execution_count": null,
   "metadata": {
    "colab": {
     "base_uri": "https://localhost:8080/"
    },
    "id": "typical-performer",
    "outputId": "877b9460-d001-4cf8-931c-762c28b71f0c"
   },
   "outputs": [
    {
     "name": "stdout",
     "output_type": "stream",
     "text": [
      "              precision    recall  f1-score   support\n",
      "\n",
      "           0       0.78      0.74      0.76       829\n",
      "           1       0.75      0.79      0.77       821\n",
      "\n",
      "    accuracy                           0.77      1650\n",
      "   macro avg       0.77      0.77      0.77      1650\n",
      "weighted avg       0.77      0.77      0.77      1650\n",
      "\n"
     ]
    },
    {
     "data": {
      "text/plain": [
       "0.7661844024983508"
      ]
     },
     "execution_count": 24,
     "metadata": {
      "tags": []
     },
     "output_type": "execute_result"
    }
   ],
   "source": [
    "print(classification_report(y_test, y_pred))\n",
    "roc_auc_score(y_test, y_pred)"
   ]
  },
  {
   "cell_type": "code",
   "execution_count": null,
   "metadata": {
    "colab": {
     "base_uri": "https://localhost:8080/",
     "height": 499
    },
    "id": "attractive-registration",
    "outputId": "078cdd9f-a2be-4cde-aac3-0ecd113b0994"
   },
   "outputs": [
    {
     "name": "stdout",
     "output_type": "stream",
     "text": [
      "Training Accuracy : 0.7794805194805194\n",
      "Testing Accuracy : 0.7878787878787878\n",
      "              precision    recall  f1-score   support\n",
      "\n",
      "           0       0.80      0.77      0.79       829\n",
      "           1       0.78      0.81      0.79       821\n",
      "\n",
      "    accuracy                           0.79      1650\n",
      "   macro avg       0.79      0.79      0.79      1650\n",
      "weighted avg       0.79      0.79      0.79      1650\n",
      "\n",
      "0.787961957599738\n"
     ]
    },
    {
     "data": {
      "image/png": "[encoded data removed]",
      "text/plain": [
       "<Figure size 432x288 with 1 Axes>"
      ]
     },
     "metadata": {
      "needs_background": "light",
      "tags": []
     },
     "output_type": "display_data"
    }
   ],
   "source": [
    "# XGBoost to classify influencers \n",
    "\n",
    "from xgboost import XGBClassifier\n",
    "from xgboost import plot_importance\n",
    "\n",
    "neg = len(y_train)-sum(y_train==1)\n",
    "pos = sum(y_train==1)\n",
    "\n",
    "model_xg = XGBClassifier(max_depth=2, objective='binary:logistic',scale_pos_weight=neg/pos)\n",
    "model_xg.fit(x_train, y_train)\n",
    "y_pred=model_xg.predict(x_test)\n",
    "\n",
    "print(\"Training Accuracy :\", model_xg.score(x_train, y_train))\n",
    "print(\"Testing Accuracy :\", model_xg.score(x_test, y_test))\n",
    "print(classification_report(y_test, y_pred))\n",
    "print(roc_auc_score(y_test, y_pred))\n",
    "\n",
    "plot_importance(model_xg, max_num_features=9)\n",
    "pyplot.show()\n",
    "\n",
    "#XGBoost Model results in the best testing accuracy of 78.79%"
   ]
  },
  {
   "cell_type": "markdown",
   "metadata": {
    "id": "YwN1XdcFDbow"
   },
   "source": [
    "The most important features for determining influence according to XGBoost are:\n",
    "\n",
    "*   Difference in retweets received\n",
    "*  Difference in listed count\n",
    "*  Difference in network feature 2 (assumed to be betweenness) \n",
    "*   Difference in mentions sent\n",
    "*   Difference in following count\n",
    "\n"
   ]
  },
  {
   "cell_type": "markdown",
   "metadata": {
    "id": "PKirqqK7CF63"
   },
   "source": [
    "**Confusion matrix of best model (XGBoost) is shown below:**"
   ]
  },
  {
   "cell_type": "code",
   "execution_count": null,
   "metadata": {
    "colab": {
     "base_uri": "https://localhost:8080/"
    },
    "id": "desperate-comedy",
    "outputId": "3056b13e-f504-45e8-8852-a224f6e75395"
   },
   "outputs": [
    {
     "data": {
      "text/plain": [
       "array([[639, 190],\n",
       "       [160, 661]])"
      ]
     },
     "execution_count": 26,
     "metadata": {
      "tags": []
     },
     "output_type": "execute_result"
    }
   ],
   "source": [
    "confusion_matrix(y_test, y_pred)"
   ]
  },
  {
   "cell_type": "code",
   "execution_count": null,
   "metadata": {
    "colab": {
     "base_uri": "https://localhost:8080/",
     "height": 499
    },
    "id": "conditional-exclusion",
    "outputId": "06a6ab75-33b8-4bb6-84ef-b21938709613"
   },
   "outputs": [
    {
     "name": "stdout",
     "output_type": "stream",
     "text": [
      "Training Accuracy : 0.7766233766233767\n",
      "Testing Accuracy : 0.7757575757575758\n",
      "              precision    recall  f1-score   support\n",
      "\n",
      "           0       0.78      0.76      0.77       829\n",
      "           1       0.77      0.79      0.78       821\n",
      "\n",
      "    accuracy                           0.78      1650\n",
      "   macro avg       0.78      0.78      0.78      1650\n",
      "weighted avg       0.78      0.78      0.78      1650\n",
      "\n",
      "0.7758110750812874\n"
     ]
    },
    {
     "data": {
      "image/png": "[encoded data removed]",
      "text/plain": [
       "<Figure size 432x288 with 1 Axes>"
      ]
     },
     "metadata": {
      "needs_background": "light",
      "tags": []
     },
     "output_type": "display_data"
    }
   ],
   "source": [
    "# select 5 most important features to attempt to improve XGBoost\n",
    "\n",
    "cols = ['A/B_retweets_received','A/B_listed_count','A/B_network_feature_2','A/B_mentions_sent','A/B_following_count']\n",
    "x_train4 = x_train[cols]\n",
    "x_test4 = x_test[cols]\n",
    "\n",
    "neg = len(y_train)-sum(y_train==1)\n",
    "pos = sum(y_train==1)\n",
    "\n",
    "model_xg = XGBClassifier(max_depth=2, objective='binary:logistic',scale_pos_weight=neg/pos)\n",
    "model_xg.fit(x_train4, y_train)\n",
    "y_pred=model_xg.predict(x_test4)\n",
    "\n",
    "print(\"Training Accuracy :\", model_xg.score(x_train4, y_train))\n",
    "print(\"Testing Accuracy :\", model_xg.score(x_test4, y_test))\n",
    "print(classification_report(y_test, y_pred))\n",
    "print(roc_auc_score(y_test, y_pred))\n",
    "\n",
    "plot_importance(model_xg, max_num_features=8)\n",
    "pyplot.show()\n",
    "# accuracy falls slightly to 77.58% testing performance "
   ]
  },
  {
   "cell_type": "code",
   "execution_count": null,
   "metadata": {
    "colab": {
     "base_uri": "https://localhost:8080/"
    },
    "id": "affected-usage",
    "outputId": "60b28341-8a96-4836-d417-0815cbab8fbb"
   },
   "outputs": [
    {
     "data": {
      "text/plain": [
       "array([[634, 195],\n",
       "       [175, 646]])"
      ]
     },
     "execution_count": 28,
     "metadata": {
      "tags": []
     },
     "output_type": "execute_result"
    }
   ],
   "source": [
    "confusion_matrix(y_test, y_pred)"
   ]
  },
  {
   "cell_type": "markdown",
   "metadata": {
    "id": "ahJb8ph6B2Rm"
   },
   "source": [
    "In summary, a business could use these models and results by identifying which influencers to target for social media promotions. Based on the Logistic Reression model, they would want to target individuals on Twitter who have **high retweets sent, mentions sent, posts, betweenness, and listed count**. Based on these properties, these are people who are highly engaged on their Twitter accounts, and they send a lot of retweets to the people they are following. This also means they have a high betweenness score, as they are important to connect other users on Twitter. By selecting these types of people to promote their products, a business may reach a larger audience more quickly. \n",
    "\n"
   ]
  },
  {
   "cell_type": "markdown",
   "metadata": {
    "id": "essential-powder"
   },
   "source": [
    "# Part B - Financials"
   ]
  },
  {
   "cell_type": "code",
   "execution_count": null,
   "metadata": {
    "id": "british-joyce"
   },
   "outputs": [],
   "source": [
    "# import libraries\n",
    "from pandas import Series, DataFrame\n",
    "import numpy as np\n",
    "import pandas as pd\n",
    "import matplotlib.pyplot as plt\n",
    "%matplotlib inline"
   ]
  },
  {
   "cell_type": "markdown",
   "metadata": {
    "id": "medieval-conservation"
   },
   "source": [
    "### Run chosen model"
   ]
  },
  {
   "cell_type": "code",
   "execution_count": null,
   "metadata": {
    "id": "prostate-dating",
    "outputId": "99924a9a-b59f-49d7-efb6-f2f99e3f2c32"
   },
   "outputs": [
    {
     "name": "stdout",
     "output_type": "stream",
     "text": [
      "[15:10:13] WARNING: C:/Users/Administrator/workspace/xgboost-win64_release_1.3.0/src/learner.cc:1061: Starting in XGBoost 1.3.0, the default evaluation metric used with the objective 'binary:logistic' was changed from 'error' to 'logloss'. Explicitly set eval_metric if you'd like to restore the old behavior.\n"
     ]
    },
    {
     "name": "stderr",
     "output_type": "stream",
     "text": [
      "C:\\Users\\katel\\AppData\\Roaming\\Python\\Python38\\site-packages\\xgboost\\sklearn.py:888: UserWarning: The use of label encoder in XGBClassifier is deprecated and will be removed in a future release. To remove this warning, do the following: 1) Pass option use_label_encoder=False when constructing XGBClassifier object; and 2) Encode your labels (y) as integers starting with 0, i.e. 0, 1, 2, ..., [num_class - 1].\n",
      "  warnings.warn(label_encoder_deprecation_msg, UserWarning)\n"
     ]
    }
   ],
   "source": [
    "# XGBoost\n",
    "\n",
    "from xgboost import XGBClassifier\n",
    "from xgboost import plot_importance\n",
    "\n",
    "neg = len(y_train)-sum(y_train==1)\n",
    "pos = sum(y_train==1)\n",
    "\n",
    "model_xg = XGBClassifier(max_depth=2, objective='binary:logistic',scale_pos_weight=neg/pos)\n",
    "model_xg.fit(x_train, y_train)\n",
    "y_pred=model_xg.predict(x_test)"
   ]
  },
  {
   "cell_type": "code",
   "execution_count": null,
   "metadata": {
    "id": "incomplete-rating"
   },
   "outputs": [],
   "source": [
    "# generate predictions for test and train data\n",
    "y_pred=model_xg.predict(x_test)"
   ]
  },
  {
   "cell_type": "code",
   "execution_count": null,
   "metadata": {
    "id": "suspended-triangle"
   },
   "outputs": [],
   "source": [
    "# create copies of x test and x train, add columns for pred and actual\n",
    "x_test_fin = x_test.copy()\n",
    "\n",
    "x_test_fin['pred'] = y_pred\n",
    "x_test_fin['actual'] = y_test"
   ]
  },
  {
   "cell_type": "code",
   "execution_count": null,
   "metadata": {
    "id": "comic-alexander",
    "outputId": "cc315594-0301-486a-d7e5-7184b2e187cf"
   },
   "outputs": [
    {
     "data": {
      "text/html": [
       "<div>\n",
       "<style scoped>\n",
       "    .dataframe tbody tr th:only-of-type {\n",
       "        vertical-align: middle;\n",
       "    }\n",
       "\n",
       "    .dataframe tbody tr th {\n",
       "        vertical-align: top;\n",
       "    }\n",
       "\n",
       "    .dataframe thead th {\n",
       "        text-align: right;\n",
       "    }\n",
       "</style>\n",
       "<table border=\"1\" class=\"dataframe\">\n",
       "  <thead>\n",
       "    <tr style=\"text-align: right;\">\n",
       "      <th></th>\n",
       "      <th>Choice</th>\n",
       "      <th>A_follower_count</th>\n",
       "      <th>A_following_count</th>\n",
       "      <th>A_listed_count</th>\n",
       "      <th>A_retweets_received</th>\n",
       "      <th>A_mentions_sent</th>\n",
       "      <th>A_retweets_sent</th>\n",
       "      <th>A_posts</th>\n",
       "      <th>A_network_feature_2</th>\n",
       "      <th>A_network_feature_3</th>\n",
       "      <th>...</th>\n",
       "      <th>A/B_following_count</th>\n",
       "      <th>A/B_listed_count</th>\n",
       "      <th>A/B_retweets_received</th>\n",
       "      <th>A/B_mentions_sent</th>\n",
       "      <th>A/B_retweets_sent</th>\n",
       "      <th>A/B_posts</th>\n",
       "      <th>A/B_network_feature_2</th>\n",
       "      <th>A/B_network_feature_3</th>\n",
       "      <th>pred</th>\n",
       "      <th>actual</th>\n",
       "    </tr>\n",
       "  </thead>\n",
       "  <tbody>\n",
       "    <tr>\n",
       "      <th>4</th>\n",
       "      <td>1</td>\n",
       "      <td>45589</td>\n",
       "      <td>862</td>\n",
       "      <td>2641</td>\n",
       "      <td>36.998884</td>\n",
       "      <td>27.881768</td>\n",
       "      <td>3.333492</td>\n",
       "      <td>23.861282</td>\n",
       "      <td>127.404293</td>\n",
       "      <td>2833.847943</td>\n",
       "      <td>...</td>\n",
       "      <td>-849.0</td>\n",
       "      <td>2460.0</td>\n",
       "      <td>33.417223</td>\n",
       "      <td>21.117111</td>\n",
       "      <td>2.213765</td>\n",
       "      <td>19.298035</td>\n",
       "      <td>78.904293</td>\n",
       "      <td>840.220036</td>\n",
       "      <td>1</td>\n",
       "      <td>1</td>\n",
       "    </tr>\n",
       "    <tr>\n",
       "      <th>9</th>\n",
       "      <td>0</td>\n",
       "      <td>182598</td>\n",
       "      <td>1402</td>\n",
       "      <td>3831</td>\n",
       "      <td>74.002958</td>\n",
       "      <td>23.549189</td>\n",
       "      <td>0.100503</td>\n",
       "      <td>15.953243</td>\n",
       "      <td>276.496516</td>\n",
       "      <td>8038.066202</td>\n",
       "      <td>...</td>\n",
       "      <td>103.0</td>\n",
       "      <td>-6119.0</td>\n",
       "      <td>6.692735</td>\n",
       "      <td>12.254359</td>\n",
       "      <td>-2.466766</td>\n",
       "      <td>5.019476</td>\n",
       "      <td>90.954483</td>\n",
       "      <td>2502.126428</td>\n",
       "      <td>1</td>\n",
       "      <td>0</td>\n",
       "    </tr>\n",
       "    <tr>\n",
       "      <th>12</th>\n",
       "      <td>1</td>\n",
       "      <td>23230</td>\n",
       "      <td>495</td>\n",
       "      <td>826</td>\n",
       "      <td>56.668293</td>\n",
       "      <td>6.373205</td>\n",
       "      <td>0.840720</td>\n",
       "      <td>9.827005</td>\n",
       "      <td>105.210638</td>\n",
       "      <td>3589.004255</td>\n",
       "      <td>...</td>\n",
       "      <td>-502.0</td>\n",
       "      <td>797.0</td>\n",
       "      <td>56.355927</td>\n",
       "      <td>1.237848</td>\n",
       "      <td>-1.191739</td>\n",
       "      <td>5.403849</td>\n",
       "      <td>-87.152998</td>\n",
       "      <td>-266.723017</td>\n",
       "      <td>1</td>\n",
       "      <td>1</td>\n",
       "    </tr>\n",
       "    <tr>\n",
       "      <th>14</th>\n",
       "      <td>1</td>\n",
       "      <td>2088</td>\n",
       "      <td>419</td>\n",
       "      <td>148</td>\n",
       "      <td>0.100503</td>\n",
       "      <td>0.100503</td>\n",
       "      <td>0.100503</td>\n",
       "      <td>0.100503</td>\n",
       "      <td>9.000000</td>\n",
       "      <td>254.722222</td>\n",
       "      <td>...</td>\n",
       "      <td>-4543.0</td>\n",
       "      <td>-15.0</td>\n",
       "      <td>-1.130436</td>\n",
       "      <td>-1.313598</td>\n",
       "      <td>-0.264290</td>\n",
       "      <td>-2.355552</td>\n",
       "      <td>-11.444444</td>\n",
       "      <td>-682.666667</td>\n",
       "      <td>0</td>\n",
       "      <td>1</td>\n",
       "    </tr>\n",
       "    <tr>\n",
       "      <th>15</th>\n",
       "      <td>1</td>\n",
       "      <td>48711</td>\n",
       "      <td>22845</td>\n",
       "      <td>932</td>\n",
       "      <td>18.578901</td>\n",
       "      <td>0.100503</td>\n",
       "      <td>0.100503</td>\n",
       "      <td>0.100503</td>\n",
       "      <td>80.343348</td>\n",
       "      <td>4431.682403</td>\n",
       "      <td>...</td>\n",
       "      <td>21848.0</td>\n",
       "      <td>903.0</td>\n",
       "      <td>18.266535</td>\n",
       "      <td>-5.034855</td>\n",
       "      <td>-1.931955</td>\n",
       "      <td>-4.322652</td>\n",
       "      <td>-112.020289</td>\n",
       "      <td>575.955131</td>\n",
       "      <td>1</td>\n",
       "      <td>1</td>\n",
       "    </tr>\n",
       "    <tr>\n",
       "      <th>...</th>\n",
       "      <td>...</td>\n",
       "      <td>...</td>\n",
       "      <td>...</td>\n",
       "      <td>...</td>\n",
       "      <td>...</td>\n",
       "      <td>...</td>\n",
       "      <td>...</td>\n",
       "      <td>...</td>\n",
       "      <td>...</td>\n",
       "      <td>...</td>\n",
       "      <td>...</td>\n",
       "      <td>...</td>\n",
       "      <td>...</td>\n",
       "      <td>...</td>\n",
       "      <td>...</td>\n",
       "      <td>...</td>\n",
       "      <td>...</td>\n",
       "      <td>...</td>\n",
       "      <td>...</td>\n",
       "      <td>...</td>\n",
       "      <td>...</td>\n",
       "    </tr>\n",
       "    <tr>\n",
       "      <th>5482</th>\n",
       "      <td>0</td>\n",
       "      <td>1140</td>\n",
       "      <td>927</td>\n",
       "      <td>69</td>\n",
       "      <td>0.100503</td>\n",
       "      <td>0.341936</td>\n",
       "      <td>0.100503</td>\n",
       "      <td>0.341936</td>\n",
       "      <td>14.500000</td>\n",
       "      <td>1206.500000</td>\n",
       "      <td>...</td>\n",
       "      <td>-43335.0</td>\n",
       "      <td>-1368.0</td>\n",
       "      <td>-3.264851</td>\n",
       "      <td>-0.249269</td>\n",
       "      <td>0.000000</td>\n",
       "      <td>-4.732631</td>\n",
       "      <td>-57.606383</td>\n",
       "      <td>-940.393617</td>\n",
       "      <td>0</td>\n",
       "      <td>0</td>\n",
       "    </tr>\n",
       "    <tr>\n",
       "      <th>5489</th>\n",
       "      <td>0</td>\n",
       "      <td>592</td>\n",
       "      <td>193</td>\n",
       "      <td>41</td>\n",
       "      <td>0.308150</td>\n",
       "      <td>1.105850</td>\n",
       "      <td>0.351840</td>\n",
       "      <td>0.351840</td>\n",
       "      <td>27.500000</td>\n",
       "      <td>528.500000</td>\n",
       "      <td>...</td>\n",
       "      <td>106.0</td>\n",
       "      <td>-322.0</td>\n",
       "      <td>-43.013315</td>\n",
       "      <td>-5.484395</td>\n",
       "      <td>-1.987293</td>\n",
       "      <td>-11.737804</td>\n",
       "      <td>18.291246</td>\n",
       "      <td>-1583.574074</td>\n",
       "      <td>0</td>\n",
       "      <td>0</td>\n",
       "    </tr>\n",
       "    <tr>\n",
       "      <th>5493</th>\n",
       "      <td>0</td>\n",
       "      <td>268170</td>\n",
       "      <td>2087</td>\n",
       "      <td>7870</td>\n",
       "      <td>6.383899</td>\n",
       "      <td>0.356943</td>\n",
       "      <td>0.356943</td>\n",
       "      <td>0.356943</td>\n",
       "      <td>29.914692</td>\n",
       "      <td>915.327014</td>\n",
       "      <td>...</td>\n",
       "      <td>1759.0</td>\n",
       "      <td>613.0</td>\n",
       "      <td>-311.079766</td>\n",
       "      <td>-3.224114</td>\n",
       "      <td>-1.501283</td>\n",
       "      <td>-6.127143</td>\n",
       "      <td>16.316204</td>\n",
       "      <td>-420.886596</td>\n",
       "      <td>0</td>\n",
       "      <td>0</td>\n",
       "    </tr>\n",
       "    <tr>\n",
       "      <th>5494</th>\n",
       "      <td>1</td>\n",
       "      <td>25360</td>\n",
       "      <td>20872</td>\n",
       "      <td>461</td>\n",
       "      <td>0.716816</td>\n",
       "      <td>1.083654</td>\n",
       "      <td>1.083654</td>\n",
       "      <td>2.532744</td>\n",
       "      <td>228.571429</td>\n",
       "      <td>9940.714286</td>\n",
       "      <td>...</td>\n",
       "      <td>19945.0</td>\n",
       "      <td>392.0</td>\n",
       "      <td>0.616313</td>\n",
       "      <td>0.741718</td>\n",
       "      <td>0.983151</td>\n",
       "      <td>2.190808</td>\n",
       "      <td>214.071429</td>\n",
       "      <td>8734.214286</td>\n",
       "      <td>1</td>\n",
       "      <td>1</td>\n",
       "    </tr>\n",
       "    <tr>\n",
       "      <th>5498</th>\n",
       "      <td>0</td>\n",
       "      <td>265258</td>\n",
       "      <td>209</td>\n",
       "      <td>551</td>\n",
       "      <td>457.648550</td>\n",
       "      <td>5.460985</td>\n",
       "      <td>0.100503</td>\n",
       "      <td>7.498126</td>\n",
       "      <td>3.826314</td>\n",
       "      <td>506.692136</td>\n",
       "      <td>...</td>\n",
       "      <td>-37392.0</td>\n",
       "      <td>-21681.0</td>\n",
       "      <td>415.318328</td>\n",
       "      <td>-1.388242</td>\n",
       "      <td>-1.244570</td>\n",
       "      <td>3.138261</td>\n",
       "      <td>-230.511754</td>\n",
       "      <td>-6661.772353</td>\n",
       "      <td>0</td>\n",
       "      <td>0</td>\n",
       "    </tr>\n",
       "  </tbody>\n",
       "</table>\n",
       "<p>1650 rows × 30 columns</p>\n",
       "</div>"
      ],
      "text/plain": [
       "      Choice  A_follower_count  A_following_count  A_listed_count  \\\n",
       "4          1             45589                862            2641   \n",
       "9          0            182598               1402            3831   \n",
       "12         1             23230                495             826   \n",
       "14         1              2088                419             148   \n",
       "15         1             48711              22845             932   \n",
       "...      ...               ...                ...             ...   \n",
       "5482       0              1140                927              69   \n",
       "5489       0               592                193              41   \n",
       "5493       0            268170               2087            7870   \n",
       "5494       1             25360              20872             461   \n",
       "5498       0            265258                209             551   \n",
       "\n",
       "      A_retweets_received  A_mentions_sent  A_retweets_sent    A_posts  \\\n",
       "4               36.998884        27.881768         3.333492  23.861282   \n",
       "9               74.002958        23.549189         0.100503  15.953243   \n",
       "12              56.668293         6.373205         0.840720   9.827005   \n",
       "14               0.100503         0.100503         0.100503   0.100503   \n",
       "15              18.578901         0.100503         0.100503   0.100503   \n",
       "...                   ...              ...              ...        ...   \n",
       "5482             0.100503         0.341936         0.100503   0.341936   \n",
       "5489             0.308150         1.105850         0.351840   0.351840   \n",
       "5493             6.383899         0.356943         0.356943   0.356943   \n",
       "5494             0.716816         1.083654         1.083654   2.532744   \n",
       "5498           457.648550         5.460985         0.100503   7.498126   \n",
       "\n",
       "      A_network_feature_2  A_network_feature_3  ...  A/B_following_count  \\\n",
       "4              127.404293          2833.847943  ...               -849.0   \n",
       "9              276.496516          8038.066202  ...                103.0   \n",
       "12             105.210638          3589.004255  ...               -502.0   \n",
       "14               9.000000           254.722222  ...              -4543.0   \n",
       "15              80.343348          4431.682403  ...              21848.0   \n",
       "...                   ...                  ...  ...                  ...   \n",
       "5482            14.500000          1206.500000  ...             -43335.0   \n",
       "5489            27.500000           528.500000  ...                106.0   \n",
       "5493            29.914692           915.327014  ...               1759.0   \n",
       "5494           228.571429          9940.714286  ...              19945.0   \n",
       "5498             3.826314           506.692136  ...             -37392.0   \n",
       "\n",
       "      A/B_listed_count  A/B_retweets_received  A/B_mentions_sent  \\\n",
       "4               2460.0              33.417223          21.117111   \n",
       "9              -6119.0               6.692735          12.254359   \n",
       "12               797.0              56.355927           1.237848   \n",
       "14               -15.0              -1.130436          -1.313598   \n",
       "15               903.0              18.266535          -5.034855   \n",
       "...                ...                    ...                ...   \n",
       "5482           -1368.0              -3.264851          -0.249269   \n",
       "5489            -322.0             -43.013315          -5.484395   \n",
       "5493             613.0            -311.079766          -3.224114   \n",
       "5494             392.0               0.616313           0.741718   \n",
       "5498          -21681.0             415.318328          -1.388242   \n",
       "\n",
       "      A/B_retweets_sent  A/B_posts  A/B_network_feature_2  \\\n",
       "4              2.213765  19.298035              78.904293   \n",
       "9             -2.466766   5.019476              90.954483   \n",
       "12            -1.191739   5.403849             -87.152998   \n",
       "14            -0.264290  -2.355552             -11.444444   \n",
       "15            -1.931955  -4.322652            -112.020289   \n",
       "...                 ...        ...                    ...   \n",
       "5482           0.000000  -4.732631             -57.606383   \n",
       "5489          -1.987293 -11.737804              18.291246   \n",
       "5493          -1.501283  -6.127143              16.316204   \n",
       "5494           0.983151   2.190808             214.071429   \n",
       "5498          -1.244570   3.138261            -230.511754   \n",
       "\n",
       "      A/B_network_feature_3  pred  actual  \n",
       "4                840.220036     1       1  \n",
       "9               2502.126428     1       0  \n",
       "12              -266.723017     1       1  \n",
       "14              -682.666667     0       1  \n",
       "15               575.955131     1       1  \n",
       "...                     ...   ...     ...  \n",
       "5482            -940.393617     0       0  \n",
       "5489           -1583.574074     0       0  \n",
       "5493            -420.886596     0       0  \n",
       "5494            8734.214286     1       1  \n",
       "5498           -6661.772353     0       0  \n",
       "\n",
       "[1650 rows x 30 columns]"
      ]
     },
     "execution_count": 17,
     "metadata": {
      "tags": []
     },
     "output_type": "execute_result"
    }
   ],
   "source": [
    "# combine to get dataset of original length with prediction values (5500)\n",
    "mergedDf = df.merge(x_test_fin, left_index=True, right_index=True)\n",
    "mergedDf"
   ]
  },
  {
   "cell_type": "code",
   "execution_count": null,
   "metadata": {
    "colab": {
     "base_uri": "https://localhost:8080/"
    },
    "id": "cosmetic-handy",
    "outputId": "4d7ceec5-313a-411b-8f27-95b117d98d07"
   },
   "outputs": [
    {
     "data": {
      "text/plain": [
       "0.7745454545454545"
      ]
     },
     "execution_count": 18,
     "metadata": {
      "tags": []
     },
     "output_type": "execute_result"
    }
   ],
   "source": [
    "len(mergedDf[(mergedDf['Choice'] == mergedDf['pred'])])/len(mergedDf)"
   ]
  },
  {
   "cell_type": "markdown",
   "metadata": {
    "id": "joint-solid"
   },
   "source": [
    "### Profit, No Analytics"
   ]
  },
  {
   "cell_type": "code",
   "execution_count": null,
   "metadata": {
    "colab": {
     "base_uri": "https://localhost:8080/"
    },
    "id": "automatic-raleigh",
    "outputId": "3f2bc0c3-cf01-4f1a-88da-6be49545223a"
   },
   "outputs": [
    {
     "name": "stdout",
     "output_type": "stream",
     "text": [
      "$1,516,770.70\n"
     ]
    }
   ],
   "source": [
    "conditions = [(mergedDf['Choice'] == 1),(mergedDf['Choice'] == 0)]\n",
    "\n",
    "# create a list of the values we want to assign for each condition\n",
    "values = [(0.0001*10*mergedDf['A_follower_count'])-10,(0.0001*10*mergedDf['B_follower_count'])-10]\n",
    "\n",
    "# create a new column and use np.select to assign values to it using our lists as arguments\n",
    "mergedDf['profit_no_analytics'] = np.select(conditions, values)\n",
    "\n",
    "import locale\n",
    "locale.setlocale(locale.LC_ALL, '')\n",
    "total_profit_no_analytics = mergedDf['profit_no_analytics'].sum()\n",
    "print(locale.currency(total_profit_no_analytics, grouping=True))"
   ]
  },
  {
   "cell_type": "markdown",
   "metadata": {
    "id": "prime-database"
   },
   "source": [
    "### Profit, Perfect Analytics"
   ]
  },
  {
   "cell_type": "code",
   "execution_count": null,
   "metadata": {
    "colab": {
     "base_uri": "https://localhost:8080/"
    },
    "id": "educational-remains",
    "outputId": "eed4f6f3-f415-47ed-d064-f2d85d903b21"
   },
   "outputs": [
    {
     "name": "stdout",
     "output_type": "stream",
     "text": [
      "$2,283,406.05\n"
     ]
    }
   ],
   "source": [
    "conditions = [(mergedDf['Choice'] == 1),(mergedDf['Choice'] == 0)]\n",
    "\n",
    "# create a list of the values we want to assign for each condition\n",
    "values = [(0.00015*10*mergedDf['A_follower_count'])-10,(0.00015*10*mergedDf['B_follower_count'])-10]\n",
    "\n",
    "# create a new column and use np.select to assign values to it using our lists as arguments\n",
    "mergedDf['profit_perfect_analytics'] = np.select(conditions, values)\n",
    "\n",
    "import locale\n",
    "locale.setlocale(locale.LC_ALL, '')\n",
    "total_profit_perfect_analytics = mergedDf['profit_perfect_analytics'].sum()\n",
    "print(locale.currency(total_profit_perfect_analytics, grouping=True))"
   ]
  },
  {
   "cell_type": "markdown",
   "metadata": {
    "id": "facial-argentina"
   },
   "source": [
    "### Profit, Analytics"
   ]
  },
  {
   "cell_type": "code",
   "execution_count": null,
   "metadata": {
    "id": "essential-external"
   },
   "outputs": [],
   "source": [
    "mergedDf['accurate_pred'] = np.where(mergedDf['pred'] == mergedDf['actual'], 1, 0)\n",
    "mergedAccurate = mergedDf[mergedDf['accurate_pred'] == 1]\n",
    "mergedInaccurate = mergedDf[mergedDf['accurate_pred'] == 0]"
   ]
  },
  {
   "cell_type": "code",
   "execution_count": null,
   "metadata": {
    "colab": {
     "base_uri": "https://localhost:8080/"
    },
    "id": "ordinary-canyon",
    "outputId": "5db6e76c-019e-498a-a1b4-44748f55107a"
   },
   "outputs": [
    {
     "name": "stderr",
     "output_type": "stream",
     "text": [
      "<ipython-input-22-ef7e7a435255>:7: SettingWithCopyWarning: \n",
      "A value is trying to be set on a copy of a slice from a DataFrame.\n",
      "Try using .loc[row_indexer,col_indexer] = value instead\n",
      "\n",
      "See the caveats in the documentation: https://pandas.pydata.org/pandas-docs/stable/user_guide/indexing.html#returning-a-view-versus-a-copy\n",
      "  mergedAccurate['profit_analytics'] = np.select(conditions, values)\n"
     ]
    }
   ],
   "source": [
    "conditions = [(mergedAccurate['Choice'] == 1),(mergedAccurate['Choice'] == 0)]\n",
    "\n",
    "# create a list of the values we want to assign for each condition\n",
    "values = [(0.00015*10*mergedAccurate['A_follower_count']),(0.00015*10*mergedAccurate['B_follower_count'])]\n",
    "\n",
    "# create a new column and use np.select to assign values to it using our lists as arguments\n",
    "mergedAccurate['profit_analytics'] = np.select(conditions, values)\n",
    "\n",
    "lost_money_analytics = len(mergedInaccurate)*10 "
   ]
  },
  {
   "cell_type": "code",
   "execution_count": null,
   "metadata": {
    "colab": {
     "base_uri": "https://localhost:8080/"
    },
    "id": "cordless-nation",
    "outputId": "d36bc645-fecb-4588-f66c-024ff4d602e8"
   },
   "outputs": [
    {
     "name": "stdout",
     "output_type": "stream",
     "text": [
      "$2,065,862.51\n"
     ]
    }
   ],
   "source": [
    "import locale\n",
    "locale.setlocale(locale.LC_ALL, '')\n",
    "total_profit_analytics = mergedAccurate['profit_analytics'].sum()-(len(mergedDf)*10)\n",
    "print(locale.currency(total_profit_analytics, grouping=True))"
   ]
  },
  {
   "cell_type": "markdown",
   "metadata": {
    "id": "ordinary-namibia"
   },
   "source": [
    "## Financial Value (Solution)\n",
    "### Note: Rows used for analysis = 1650 (30% of original dataset)"
   ]
  },
  {
   "cell_type": "markdown",
   "metadata": {
    "id": "defensive-clock"
   },
   "source": [
    "What is the lift in expected net profit from using your analytic model (versus not using analytics)?"
   ]
  },
  {
   "cell_type": "code",
   "execution_count": null,
   "metadata": {
    "colab": {
     "base_uri": "https://localhost:8080/"
    },
    "id": "sustained-sector",
    "outputId": "f01d2d12-e0e3-440e-e84b-ab54f6e42b02"
   },
   "outputs": [
    {
     "name": "stdout",
     "output_type": "stream",
     "text": [
      "The lift in expected net profit is 36.2%\n"
     ]
    }
   ],
   "source": [
    "lift1 = (total_profit_analytics - total_profit_no_analytics)/total_profit_no_analytics\n",
    "print(\"The lift in expected net profit is {}%\".format(round(lift1*100,2)))"
   ]
  },
  {
   "cell_type": "markdown",
   "metadata": {
    "id": "introductory-valley"
   },
   "source": [
    "What is the lift in net profit from using a perfect analytic model (versus not using analytics)?"
   ]
  },
  {
   "cell_type": "code",
   "execution_count": null,
   "metadata": {
    "colab": {
     "base_uri": "https://localhost:8080/"
    },
    "id": "representative-radius",
    "outputId": "762400b5-948e-4733-a2a7-21c02f6647c2"
   },
   "outputs": [
    {
     "name": "stdout",
     "output_type": "stream",
     "text": [
      "The lift in expected net profit is 50.54%\n"
     ]
    }
   ],
   "source": [
    "lift2 = (total_profit_perfect_analytics - total_profit_no_analytics)/total_profit_no_analytics\n",
    "print(\"The lift in expected net profit is {}%\".format(round(lift2*100,2)))"
   ]
  },
  {
   "cell_type": "markdown",
   "metadata": {
    "id": "ocKAJ-7FCRUQ"
   },
   "source": [
    "# Part 2 - Twitter Data"
   ]
  },
  {
   "cell_type": "markdown",
   "metadata": {
    "id": "YxoyXdGJEXbu"
   },
   "source": [
    "### Write a script to collect Tweets"
   ]
  },
  {
   "cell_type": "code",
   "execution_count": null,
   "metadata": {
    "id": "-I5ZloEICVoH"
   },
   "outputs": [],
   "source": [
    "# Download a file from Google Drive using FILE_ID\n",
    "\n",
    "# Install the PyDrive wrapper & import libraries.\n",
    "# This only needs to be done once per notebook.\n",
    "!pip install -U -q PyDrive tweepy\n",
    "import os \n",
    "from pydrive.auth import GoogleAuth\n",
    "from pydrive.drive import GoogleDrive\n",
    "from google.colab import auth\n",
    "from google.colab import drive\n",
    "from google.colab import files\n",
    "from oauth2client.client import GoogleCredentials\n",
    "\n",
    "# Authenticate and create the PyDrive client.\n",
    "# This only needs to be done once per notebook.\n",
    "auth.authenticate_user()\n",
    "gauth = GoogleAuth()\n",
    "gauth.credentials = GoogleCredentials.get_application_default()\n",
    "drive = GoogleDrive(gauth)"
   ]
  },
  {
   "cell_type": "code",
   "execution_count": null,
   "metadata": {
    "id": "S4-s8sdZCh7i"
   },
   "outputs": [],
   "source": [
    "# Download a file based on its file ID.\n",
    "#\n",
    "# A file ID looks like: 1rhnzJ8CD9Amdz5OMi8s4kqT5b00jY5k4\n",
    "# Visit https://help.meiro.io/en/articles/2245027-where-can-i-find-the-file-id-on-google-drive\n",
    "# for more details on getting the FILE ID.\n",
    "\n",
    "def download_file(file_id, file_name):\n",
    "    '''\n",
    "    file_id: Make sure that you can access this file from your account or else, this will not run\n",
    "    file_name: Name of the file by which you want to save\n",
    "    '''\n",
    "    downloaded = drive.CreateFile({'id': file_id})\n",
    "    downloaded.GetContentFile(file_name)\n",
    "    print('Downloaded file with ID {} and name {}'.format(file_id, file_name))"
   ]
  },
  {
   "cell_type": "code",
   "execution_count": null,
   "metadata": {
    "colab": {
     "base_uri": "https://localhost:8080/"
    },
    "id": "jxqJrxbvCk8Z",
    "outputId": "2cb3cd83-a38d-441f-98d9-7d801052971a"
   },
   "outputs": [
    {
     "name": "stdout",
     "output_type": "stream",
     "text": [
      "Downloaded file with ID 1zotgAOC4jA0wVOC8MkwYpNhNO3gjnW9M and name secrets.txt\n"
     ]
    }
   ],
   "source": [
    "if not os.path.isfile('secrets.txt'):\n",
    "    download_file('1zotgAOC4jA0wVOC8MkwYpNhNO3gjnW9M', 'secrets.txt')"
   ]
  },
  {
   "cell_type": "code",
   "execution_count": null,
   "metadata": {
    "id": "XhoHbWABCnFi"
   },
   "outputs": [],
   "source": [
    "# You can store secrets in a file or in the form of environment variables during production.\n",
    "# NEVER store keys directly on notebook.\n",
    "\n",
    "with open('secrets.txt', 'r') as file:\n",
    "    data = file.read().split('\\n')\n",
    "\n",
    "import tweepy \n",
    "import pandas as pd\n",
    "\n",
    "consumer_key = data[0]\n",
    "consumer_secret = data[1]\n",
    "access_key = data[2]\n",
    "access_secret = data[3]"
   ]
  },
  {
   "cell_type": "code",
   "execution_count": null,
   "metadata": {
    "id": "-YWvlOL2CpZU"
   },
   "outputs": [],
   "source": [
    "def get_query_tweets(query, num=0):\n",
    "    from google.colab import drive\n",
    "\n",
    "    num = 3000 if num > 3000 else num\n",
    "    max_num_per_call = 100\n",
    "\n",
    "    #authorize twitter, initialize tweepy\n",
    "    auth = tweepy.OAuthHandler(consumer_key, consumer_secret)\n",
    "    auth.set_access_token(access_key, access_secret)\n",
    "    api = tweepy.API(auth, wait_on_rate_limit=True)\n",
    "    \n",
    "    #initialize a list to hold all the tweepy Tweets\n",
    "    alltweets = []    \n",
    "    \n",
    "    #make initial request for most recent tweets (200 is the maximum allowed count)\n",
    "    curr_count = max_num_per_call if num > max_num_per_call else num\n",
    "    num -= curr_count\n",
    "\n",
    "    new_tweets = api.search(q=query, count=curr_count, until = '2021-02-07')\n",
    "\n",
    "    #save most recent tweets\n",
    "    alltweets.extend(new_tweets)\n",
    "    \n",
    "    #save the id of the oldest tweet less one\n",
    "    oldest = alltweets[-1].id - 1\n",
    "    \n",
    "    print(f\"{len(alltweets)} tweets downloaded so far\")\n",
    "\n",
    "    #keep grabbing tweets until there are no tweets left to grab\n",
    "    while num > 0:\n",
    "        print(f\"Getting tweets before {oldest}\")\n",
    "        \n",
    "        curr_count = max_num_per_call if num > max_num_per_call else num\n",
    "\n",
    "        #all subsiquent requests use the max_id param to prevent duplicates\n",
    "        new_tweets = api.search(q=query, count=curr_count, max_id=oldest)\n",
    "\n",
    "        num -= curr_count\n",
    "        \n",
    "        #save most recent tweets\n",
    "        alltweets.extend(new_tweets)\n",
    "        \n",
    "        #update the id of the oldest tweet less one\n",
    "        oldest = alltweets[-1].id - 1\n",
    "        \n",
    "        print(f\"{len(alltweets)} tweets downloaded so far\")\n",
    "    \n",
    "    #transform the tweepy tweets into a 2D array that will populate the csv    \n",
    "    outtweets = [[tweet.id_str, tweet.created_at, tweet.text.encode(\"utf-8\"),tweet.user.screen_name, tweet.user.verified, tweet.user.followers_count, tweet.user.friends_count, tweet.user.statuses_count, tweet.retweet_count, tweet.favorite_count, tweet.retweeted, tweet.in_reply_to_user_id_str, tweet.in_reply_to_screen_name] for tweet in alltweets]\n",
    "    df = pd.DataFrame(outtweets, columns=[\"id\", \"created_at\", \"text\", \"screen_name\", \"verified_user\", \"followers_count\", \"friends_count\", \"statuses_count\", \"retweet_count\", \"favorite_count\", \"retweeted\", \"in_reply_to_user_id\", \"in_reply_to_screen_name\"])\n",
    "    \n",
    "    drive.mount('/drive')\n",
    "\n",
    "    df.to_csv(f\"/drive/My Drive/query_{query}.csv\", index=False)\n",
    "    print(df.head())"
   ]
  },
  {
   "cell_type": "code",
   "execution_count": null,
   "metadata": {
    "colab": {
     "base_uri": "https://localhost:8080/"
    },
    "id": "abFh7JEkCuCt",
    "outputId": "322bfa7d-fb3c-4da2-a7b9-c172d6e3f7be"
   },
   "outputs": [
    {
     "name": "stdout",
     "output_type": "stream",
     "text": [
      "92 tweets downloaded so far\n",
      "Getting tweets before 1357871440394133503\n",
      "189 tweets downloaded so far\n",
      "Getting tweets before 1357622171733028863\n",
      "289 tweets downloaded so far\n",
      "Mounted at /drive\n",
      "                    id  ... in_reply_to_screen_name\n",
      "0  1358200729069121540  ...                    None\n",
      "1  1358198745872138242  ...                    None\n",
      "2  1358197204301844486  ...                    None\n",
      "3  1358196271194902528  ...                    None\n",
      "4  1358185387500449798  ...              StrahdZaro\n",
      "\n",
      "[5 rows x 13 columns]\n"
     ]
    }
   ],
   "source": [
    "# pass in the search query\n",
    "get_query_tweets(\"gamestop game stop\", 300)"
   ]
  },
  {
   "cell_type": "markdown",
   "metadata": {
    "id": "S3c4ocE_DF9n"
   },
   "source": [
    "## Tweet Parser"
   ]
  },
  {
   "cell_type": "code",
   "execution_count": null,
   "metadata": {
    "colab": {
     "base_uri": "https://localhost:8080/",
     "height": 72,
     "resources": {
      "http://localhost:8080/nbextensions/google.colab/files.js": {
       "data": "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",
       "headers": [
        [
         "content-type",
         "application/javascript"
        ]
       ],
       "ok": true,
       "status": 200,
       "status_text": ""
      }
     }
    },
    "id": "WGQFjWk5DCOU",
    "outputId": "b0e06e02-2e8d-49fe-b16b-a6a70dfc131e"
   },
   "outputs": [
    {
     "data": {
      "text/html": [
       "\n",
       "     <input type=\"file\" id=\"files-db46dc34-9ba7-44e5-bc02-609fefea6f9c\" name=\"files[]\" multiple disabled\n",
       "        style=\"border:none\" />\n",
       "     <output id=\"result-db46dc34-9ba7-44e5-bc02-609fefea6f9c\">\n",
       "      Upload widget is only available when the cell has been executed in the\n",
       "      current browser session. Please rerun this cell to enable.\n",
       "      </output>\n",
       "      <script src=\"/nbextensions/google.colab/files.js\"></script> "
      ],
      "text/plain": [
       "<IPython.core.display.HTML object>"
      ]
     },
     "metadata": {
      "tags": []
     },
     "output_type": "display_data"
    },
    {
     "name": "stdout",
     "output_type": "stream",
     "text": [
      "Saving query_gamestop GME gme AMC.csv to query_gamestop GME gme AMC (1).csv\n"
     ]
    }
   ],
   "source": [
    "import io\n",
    "import os \n",
    "import pandas as pd\n",
    "from pydrive.auth import GoogleAuth\n",
    "from pydrive.drive import GoogleDrive\n",
    "from google.colab import auth\n",
    "from google.colab import drive\n",
    "from google.colab import files\n",
    "uploaded = files.upload()"
   ]
  },
  {
   "cell_type": "code",
   "execution_count": null,
   "metadata": {
    "id": "PBlFVangDW5L"
   },
   "outputs": [],
   "source": [
    "tweets = pd.read_csv(io.BytesIO(uploaded['query_gamestop GME gme AMC.csv']))"
   ]
  },
  {
   "cell_type": "code",
   "execution_count": null,
   "metadata": {
    "colab": {
     "base_uri": "https://localhost:8080/",
     "height": 864
    },
    "id": "0EEc9IBKDYK1",
    "outputId": "06e8daf9-0107-4921-93d7-8ffa8f599e53"
   },
   "outputs": [
    {
     "data": {
      "text/html": [
       "<div>\n",
       "<style scoped>\n",
       "    .dataframe tbody tr th:only-of-type {\n",
       "        vertical-align: middle;\n",
       "    }\n",
       "\n",
       "    .dataframe tbody tr th {\n",
       "        vertical-align: top;\n",
       "    }\n",
       "\n",
       "    .dataframe thead th {\n",
       "        text-align: right;\n",
       "    }\n",
       "</style>\n",
       "<table border=\"1\" class=\"dataframe\">\n",
       "  <thead>\n",
       "    <tr style=\"text-align: right;\">\n",
       "      <th></th>\n",
       "      <th>id</th>\n",
       "      <th>created_at</th>\n",
       "      <th>text</th>\n",
       "      <th>screen_name</th>\n",
       "      <th>verified_user</th>\n",
       "      <th>followers_count</th>\n",
       "      <th>friends_count</th>\n",
       "      <th>statuses_count</th>\n",
       "      <th>retweet_count</th>\n",
       "      <th>favorite_count</th>\n",
       "      <th>retweeted</th>\n",
       "      <th>in_reply_to_user_id</th>\n",
       "      <th>in_reply_to_screen_name</th>\n",
       "    </tr>\n",
       "  </thead>\n",
       "  <tbody>\n",
       "    <tr>\n",
       "      <th>0</th>\n",
       "      <td>1.354830e+18</td>\n",
       "      <td>1/28/21 16:43</td>\n",
       "      <td>b'Same people who invested in game stop are th...</td>\n",
       "      <td>LandoPSD</td>\n",
       "      <td>False</td>\n",
       "      <td>506</td>\n",
       "      <td>465</td>\n",
       "      <td>5439</td>\n",
       "      <td>0</td>\n",
       "      <td>4</td>\n",
       "      <td>False</td>\n",
       "      <td>NaN</td>\n",
       "      <td>NaN</td>\n",
       "    </tr>\n",
       "    <tr>\n",
       "      <th>1</th>\n",
       "      <td>1.354830e+18</td>\n",
       "      <td>1/28/21 16:43</td>\n",
       "      <td>b'@kenzybell4 @rhonda_ @GameStop I just though...</td>\n",
       "      <td>kimmb24</td>\n",
       "      <td>False</td>\n",
       "      <td>1061</td>\n",
       "      <td>1519</td>\n",
       "      <td>8301</td>\n",
       "      <td>0</td>\n",
       "      <td>1</td>\n",
       "      <td>False</td>\n",
       "      <td>1.000000e+18</td>\n",
       "      <td>kenzybell4</td>\n",
       "    </tr>\n",
       "    <tr>\n",
       "      <th>2</th>\n",
       "      <td>1.354830e+18</td>\n",
       "      <td>1/28/21 16:43</td>\n",
       "      <td>b'RT @DanPriceSeattle: *Stock market hits reco...</td>\n",
       "      <td>caseyproo</td>\n",
       "      <td>False</td>\n",
       "      <td>177</td>\n",
       "      <td>376</td>\n",
       "      <td>11157</td>\n",
       "      <td>17470</td>\n",
       "      <td>0</td>\n",
       "      <td>False</td>\n",
       "      <td>NaN</td>\n",
       "      <td>NaN</td>\n",
       "    </tr>\n",
       "    <tr>\n",
       "      <th>3</th>\n",
       "      <td>1.354830e+18</td>\n",
       "      <td>1/28/21 16:43</td>\n",
       "      <td>b'I have been reading a lot of Gamestop analys...</td>\n",
       "      <td>karenkho</td>\n",
       "      <td>False</td>\n",
       "      <td>44282</td>\n",
       "      <td>4567</td>\n",
       "      <td>31983</td>\n",
       "      <td>8</td>\n",
       "      <td>29</td>\n",
       "      <td>False</td>\n",
       "      <td>NaN</td>\n",
       "      <td>NaN</td>\n",
       "    </tr>\n",
       "    <tr>\n",
       "      <th>4</th>\n",
       "      <td>1.354830e+18</td>\n",
       "      <td>1/28/21 16:43</td>\n",
       "      <td>b'RT @DanPriceSeattle: *Stock market hits reco...</td>\n",
       "      <td>RyanRow1and</td>\n",
       "      <td>False</td>\n",
       "      <td>19</td>\n",
       "      <td>76</td>\n",
       "      <td>280</td>\n",
       "      <td>17470</td>\n",
       "      <td>0</td>\n",
       "      <td>False</td>\n",
       "      <td>NaN</td>\n",
       "      <td>NaN</td>\n",
       "    </tr>\n",
       "    <tr>\n",
       "      <th>...</th>\n",
       "      <td>...</td>\n",
       "      <td>...</td>\n",
       "      <td>...</td>\n",
       "      <td>...</td>\n",
       "      <td>...</td>\n",
       "      <td>...</td>\n",
       "      <td>...</td>\n",
       "      <td>...</td>\n",
       "      <td>...</td>\n",
       "      <td>...</td>\n",
       "      <td>...</td>\n",
       "      <td>...</td>\n",
       "      <td>...</td>\n",
       "    </tr>\n",
       "    <tr>\n",
       "      <th>10724</th>\n",
       "      <td>1.355629e+18</td>\n",
       "      <td>1/30/21 21:29</td>\n",
       "      <td>b'RT @StaffordCook2: HOLD THE FUCKING LINE!!!!...</td>\n",
       "      <td>Christi89558034</td>\n",
       "      <td>False</td>\n",
       "      <td>25</td>\n",
       "      <td>44</td>\n",
       "      <td>718</td>\n",
       "      <td>2</td>\n",
       "      <td>0</td>\n",
       "      <td>False</td>\n",
       "      <td>NaN</td>\n",
       "      <td>NaN</td>\n",
       "    </tr>\n",
       "    <tr>\n",
       "      <th>10725</th>\n",
       "      <td>1.355629e+18</td>\n",
       "      <td>1/30/21 21:30</td>\n",
       "      <td>b'RT @charliebilello: January...\\nBlockbuster ...</td>\n",
       "      <td>jilm</td>\n",
       "      <td>False</td>\n",
       "      <td>2951</td>\n",
       "      <td>267</td>\n",
       "      <td>47288</td>\n",
       "      <td>370</td>\n",
       "      <td>0</td>\n",
       "      <td>False</td>\n",
       "      <td>NaN</td>\n",
       "      <td>NaN</td>\n",
       "    </tr>\n",
       "    <tr>\n",
       "      <th>10726</th>\n",
       "      <td>1.355630e+18</td>\n",
       "      <td>1/30/21 21:31</td>\n",
       "      <td>b\"RT @Paddy_Stash: I'd personally like to than...</td>\n",
       "      <td>CoinArchipelago</td>\n",
       "      <td>False</td>\n",
       "      <td>2</td>\n",
       "      <td>25</td>\n",
       "      <td>38</td>\n",
       "      <td>1</td>\n",
       "      <td>0</td>\n",
       "      <td>False</td>\n",
       "      <td>NaN</td>\n",
       "      <td>NaN</td>\n",
       "    </tr>\n",
       "    <tr>\n",
       "      <th>10727</th>\n",
       "      <td>1.355630e+18</td>\n",
       "      <td>1/30/21 21:32</td>\n",
       "      <td>b'RT @PennyPumpChat: Releasing our next penny ...</td>\n",
       "      <td>DSouza4Prison</td>\n",
       "      <td>False</td>\n",
       "      <td>16</td>\n",
       "      <td>83</td>\n",
       "      <td>2217</td>\n",
       "      <td>1</td>\n",
       "      <td>0</td>\n",
       "      <td>False</td>\n",
       "      <td>NaN</td>\n",
       "      <td>NaN</td>\n",
       "    </tr>\n",
       "    <tr>\n",
       "      <th>10728</th>\n",
       "      <td>1.355630e+18</td>\n",
       "      <td>1/30/21 21:32</td>\n",
       "      <td>b'RT @NewFoundVoice: @GameStop \\xf0\\x9f\\x92\\xa...</td>\n",
       "      <td>JohanTrevino</td>\n",
       "      <td>False</td>\n",
       "      <td>564</td>\n",
       "      <td>1779</td>\n",
       "      <td>9493</td>\n",
       "      <td>1</td>\n",
       "      <td>0</td>\n",
       "      <td>False</td>\n",
       "      <td>NaN</td>\n",
       "      <td>NaN</td>\n",
       "    </tr>\n",
       "  </tbody>\n",
       "</table>\n",
       "<p>10729 rows × 13 columns</p>\n",
       "</div>"
      ],
      "text/plain": [
       "                 id     created_at  ... in_reply_to_user_id in_reply_to_screen_name\n",
       "0      1.354830e+18  1/28/21 16:43  ...                 NaN                     NaN\n",
       "1      1.354830e+18  1/28/21 16:43  ...        1.000000e+18              kenzybell4\n",
       "2      1.354830e+18  1/28/21 16:43  ...                 NaN                     NaN\n",
       "3      1.354830e+18  1/28/21 16:43  ...                 NaN                     NaN\n",
       "4      1.354830e+18  1/28/21 16:43  ...                 NaN                     NaN\n",
       "...             ...            ...  ...                 ...                     ...\n",
       "10724  1.355629e+18  1/30/21 21:29  ...                 NaN                     NaN\n",
       "10725  1.355629e+18  1/30/21 21:30  ...                 NaN                     NaN\n",
       "10726  1.355630e+18  1/30/21 21:31  ...                 NaN                     NaN\n",
       "10727  1.355630e+18  1/30/21 21:32  ...                 NaN                     NaN\n",
       "10728  1.355630e+18  1/30/21 21:32  ...                 NaN                     NaN\n",
       "\n",
       "[10729 rows x 13 columns]"
      ]
     },
     "execution_count": 54,
     "metadata": {
      "tags": []
     },
     "output_type": "execute_result"
    }
   ],
   "source": [
    "tweets"
   ]
  },
  {
   "cell_type": "code",
   "execution_count": null,
   "metadata": {
    "id": "dp2uJiN3DcwM"
   },
   "outputs": [],
   "source": [
    "def get_rt_names(tweets):\n",
    "    \n",
    "    import re\n",
    "\n",
    "    def get_names(tweet):\n",
    "        \"\"\"\n",
    "        Regular expression logic --- '^@.*': '^' - looks for the string starting with '@'\n",
    "                                          '.' - any character\n",
    "                                          '*' - repeating zero or more times\n",
    "                                          Thus it looks for all the strings starting with '@'\n",
    "                                 --- '[^\\w]': '[]' : represents a character class\n",
    "                                               '\\w' : all alpha numeric characters including underscores\n",
    "                                               '^': when used inside the character class it is a negation\n",
    "                                        Thus it looks for all the non alpha numeric characters in a string.\n",
    "        :param tweet: a row in the data frame of tweets.\n",
    "        :return: a list of screen names mentioned in the tweet-text.\n",
    "        \"\"\"\n",
    "        pattern = re.compile('^@.*')\n",
    "        text = tweet['text']\n",
    "        text_tokens = str(text).split()\n",
    "        screen_name = tweet['screen_name']\n",
    "        matches = []\n",
    "        for tok in text_tokens:\n",
    "            match_name = pattern.match(tok)\n",
    "            if (match_name):\n",
    "                rt_name = match_name.group()\n",
    "                rt_name = re.sub('[^\\w]', \"\", rt_name)\n",
    "                matches.append(rt_name)\n",
    "        if not matches:\n",
    "            matches.append(screen_name)\n",
    "        return matches\n",
    "\n",
    "    if 'screen_name' in tweets.columns:\n",
    "        if 'text' in tweets.columns:\n",
    "            tweets['rt_name'] = tweets.apply(get_names, axis=1)\n",
    "        else:\n",
    "            print(\"please check for the column names\")\n",
    "            print(\" 'text': column name for the tweet text is missing\")\n",
    "            print(\" you might check for extra white spaces as well\")\n",
    "    else:\n",
    "        print(\"please check for the column names\")\n",
    "        print(\" 'screen_name': column name for the twitter profle name is missing\")\n",
    "        print(\" you might check for extra white spaces as well\")\n",
    "    tweeters = tweets[[ 'rt_name', 'screen_name']]\n",
    "    return tweeters\n",
    "\n",
    "\n",
    "\n",
    "def construct_edges(tweeters):\n",
    "    \"\"\"\n",
    "    :param tweeters: a datafrmae of twitter handles\n",
    "    :return: A dataframe of edges with 'handles of retweeted and reply/mentions' as first column\n",
    "    and the twitter of handle of the tweeted person as the second column.\n",
    "    \"\"\"\n",
    "    network_edges = []\n",
    "    for idx, row in tweeters.iterrows():\n",
    "        for name in list(np.array(row.rt_name).flat):\n",
    "            network_edges.append({'rt_name': row[' screen_name'], ' screen_name': name })\n",
    "    network_edges = pd.DataFrame(network_edges)\n",
    "    return network_edges"
   ]
  },
  {
   "cell_type": "code",
   "execution_count": null,
   "metadata": {
    "colab": {
     "base_uri": "https://localhost:8080/"
    },
    "id": "656r0DovDdtp",
    "outputId": "19dabf70-9375-4158-ec2e-3b584c2519e6"
   },
   "outputs": [
    {
     "name": "stdout",
     "output_type": "stream",
     "text": [
      "Drive already mounted at /drive; to attempt to forcibly remount, call drive.mount(\"/drive\", force_remount=True).\n",
      "        screen_name          rt_name content_type\n",
      "0          LandoPSD         LandoPSD        Tweet\n",
      "1           kimmb24          rhonda_      Retweet\n",
      "2           kimmb24         GameStop      Retweet\n",
      "3         caseyproo  DanPriceSeattle      Retweet\n",
      "4          karenkho       ranjanxroy      Retweet\n",
      "5          karenkho      ReadMargins      Retweet\n",
      "6       RyanRow1and  DanPriceSeattle      Retweet\n",
      "7       _eleanorina       Kantrowitz      Retweet\n",
      "8       _eleanorina       ranjanxroy      Retweet\n",
      "9     BrennanReilly  DanPriceSeattle      Retweet\n",
      "10  tweetingnonstop  tweetingnonstop        Tweet\n",
      "11        isaak_ben         edrormba      Retweet\n",
      "12        isaak_ben            Yahoo      Retweet\n",
      "13          C8ntral    Psychopompian      Retweet\n",
      "14     WSBHitZnWinZ  DanPriceSeattle      Retweet\n",
      "15       EvolveFiRE  DanPriceSeattle      Retweet\n",
      "16   suraj_singhind   wallstreetbets      Retweet\n",
      "17        Roodhouse        Roodhouse        Tweet\n",
      "18        andreteow  DanPriceSeattle      Retweet\n",
      "19      boolinjesus   hereliesthighs      Retweet\n",
      "11960\n"
     ]
    }
   ],
   "source": [
    "from datetime import datetime\n",
    "from google.colab import drive\n",
    "import numpy as np\n",
    "\n",
    "screen_name_list = []\n",
    "rt_name_list = []\n",
    "tweeters = get_rt_names(tweets)\n",
    "\n",
    "for row in range(0,len(tweeters['screen_name'])):\n",
    "  screen_name = tweeters['screen_name'][row]\n",
    "  for retweet in tweeters['rt_name'][row]:\n",
    "    screen_name_list.append(screen_name)\n",
    "    rt_name_list.append(retweet) \n",
    "\n",
    "network_edges = pd.DataFrame()\n",
    "network_edges['screen_name'] = screen_name_list\n",
    "network_edges['rt_name'] = rt_name_list\n",
    "\n",
    "network_edges['content_type'] = np.where(network_edges['screen_name']== network_edges['rt_name'], 'Tweet', 'Retweet')\n",
    "\n",
    "drive.mount('/drive')\n",
    "network_edges.to_csv(f\"/drive/My Drive/edges_output.csv\", index=False)\n",
    "print(network_edges[:20])\n",
    "print(len(network_edges))"
   ]
  },
  {
   "cell_type": "markdown",
   "metadata": {
    "id": "f_K3lyiBDluq"
   },
   "source": [
    "## Network Analysis - Calculating Degree, Betweenness, Closeness of each node"
   ]
  },
  {
   "cell_type": "code",
   "execution_count": null,
   "metadata": {
    "id": "OK_z7gEEDnSI"
   },
   "outputs": [],
   "source": [
    "import networkx as nx"
   ]
  },
  {
   "cell_type": "code",
   "execution_count": null,
   "metadata": {
    "colab": {
     "base_uri": "https://localhost:8080/",
     "height": 72,
     "resources": {
      "http://localhost:8080/nbextensions/google.colab/files.js": {
       "data": "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",
       "headers": [
        [
         "content-type",
         "application/javascript"
        ]
       ],
       "ok": true,
       "status": 200,
       "status_text": ""
      }
     }
    },
    "id": "QkPdq43EDplN",
    "outputId": "55df25bb-5d19-4c80-ae87-b382f801307c"
   },
   "outputs": [
    {
     "data": {
      "text/html": [
       "\n",
       "     <input type=\"file\" id=\"files-9b748270-550f-4560-8320-4799724de468\" name=\"files[]\" multiple disabled\n",
       "        style=\"border:none\" />\n",
       "     <output id=\"result-9b748270-550f-4560-8320-4799724de468\">\n",
       "      Upload widget is only available when the cell has been executed in the\n",
       "      current browser session. Please rerun this cell to enable.\n",
       "      </output>\n",
       "      <script src=\"/nbextensions/google.colab/files.js\"></script> "
      ],
      "text/plain": [
       "<IPython.core.display.HTML object>"
      ]
     },
     "metadata": {
      "tags": []
     },
     "output_type": "display_data"
    },
    {
     "name": "stdout",
     "output_type": "stream",
     "text": [
      "Saving edges_output_all_data_final.csv to edges_output_all_data_final.csv\n"
     ]
    }
   ],
   "source": [
    "import io\n",
    "import os \n",
    "import pandas as pd\n",
    "from pydrive.auth import GoogleAuth\n",
    "from pydrive.drive import GoogleDrive\n",
    "from google.colab import auth\n",
    "from google.colab import drive\n",
    "from google.colab import files\n",
    "uploaded = files.upload()"
   ]
  },
  {
   "cell_type": "code",
   "execution_count": null,
   "metadata": {
    "id": "Hb4PmDVAEO20"
   },
   "outputs": [],
   "source": [
    "edges_df = pd.read_csv(io.BytesIO(uploaded['edges_output_all_data_final.csv']))"
   ]
  },
  {
   "cell_type": "code",
   "execution_count": null,
   "metadata": {
    "colab": {
     "base_uri": "https://localhost:8080/",
     "height": 419
    },
    "id": "Sa2Mpxo5ETPr",
    "outputId": "a9d31645-a696-4255-ff4a-882576252a01"
   },
   "outputs": [
    {
     "data": {
      "text/html": [
       "<div>\n",
       "<style scoped>\n",
       "    .dataframe tbody tr th:only-of-type {\n",
       "        vertical-align: middle;\n",
       "    }\n",
       "\n",
       "    .dataframe tbody tr th {\n",
       "        vertical-align: top;\n",
       "    }\n",
       "\n",
       "    .dataframe thead th {\n",
       "        text-align: right;\n",
       "    }\n",
       "</style>\n",
       "<table border=\"1\" class=\"dataframe\">\n",
       "  <thead>\n",
       "    <tr style=\"text-align: right;\">\n",
       "      <th></th>\n",
       "      <th>Source</th>\n",
       "      <th>Target</th>\n",
       "      <th>Type</th>\n",
       "    </tr>\n",
       "  </thead>\n",
       "  <tbody>\n",
       "    <tr>\n",
       "      <th>0</th>\n",
       "      <td>LandoPSD</td>\n",
       "      <td>LandoPSD</td>\n",
       "      <td>Tweet</td>\n",
       "    </tr>\n",
       "    <tr>\n",
       "      <th>1</th>\n",
       "      <td>kimmb24</td>\n",
       "      <td>rhonda_</td>\n",
       "      <td>Retweet</td>\n",
       "    </tr>\n",
       "    <tr>\n",
       "      <th>2</th>\n",
       "      <td>kimmb24</td>\n",
       "      <td>GameStop</td>\n",
       "      <td>Retweet</td>\n",
       "    </tr>\n",
       "    <tr>\n",
       "      <th>3</th>\n",
       "      <td>caseyproo</td>\n",
       "      <td>DanPriceSeattle</td>\n",
       "      <td>Retweet</td>\n",
       "    </tr>\n",
       "    <tr>\n",
       "      <th>4</th>\n",
       "      <td>karenkho</td>\n",
       "      <td>ranjanxroy</td>\n",
       "      <td>Retweet</td>\n",
       "    </tr>\n",
       "    <tr>\n",
       "      <th>...</th>\n",
       "      <td>...</td>\n",
       "      <td>...</td>\n",
       "      <td>...</td>\n",
       "    </tr>\n",
       "    <tr>\n",
       "      <th>11944</th>\n",
       "      <td>CoinArchipelago</td>\n",
       "      <td>DNC</td>\n",
       "      <td>Retweet</td>\n",
       "    </tr>\n",
       "    <tr>\n",
       "      <th>11945</th>\n",
       "      <td>CoinArchipelago</td>\n",
       "      <td>TheDemocrats</td>\n",
       "      <td>Retweet</td>\n",
       "    </tr>\n",
       "    <tr>\n",
       "      <th>11946</th>\n",
       "      <td>DSouza4Prison</td>\n",
       "      <td>PennyPumpChat</td>\n",
       "      <td>Retweet</td>\n",
       "    </tr>\n",
       "    <tr>\n",
       "      <th>11947</th>\n",
       "      <td>JohanTrevino</td>\n",
       "      <td>NewFoundVoice</td>\n",
       "      <td>Retweet</td>\n",
       "    </tr>\n",
       "    <tr>\n",
       "      <th>11948</th>\n",
       "      <td>JohanTrevino</td>\n",
       "      <td>GameStop</td>\n",
       "      <td>Retweet</td>\n",
       "    </tr>\n",
       "  </tbody>\n",
       "</table>\n",
       "<p>11949 rows × 3 columns</p>\n",
       "</div>"
      ],
      "text/plain": [
       "                Source           Target     Type\n",
       "0             LandoPSD         LandoPSD    Tweet\n",
       "1              kimmb24          rhonda_  Retweet\n",
       "2              kimmb24         GameStop  Retweet\n",
       "3            caseyproo  DanPriceSeattle  Retweet\n",
       "4             karenkho       ranjanxroy  Retweet\n",
       "...                ...              ...      ...\n",
       "11944  CoinArchipelago              DNC  Retweet\n",
       "11945  CoinArchipelago     TheDemocrats  Retweet\n",
       "11946    DSouza4Prison    PennyPumpChat  Retweet\n",
       "11947     JohanTrevino    NewFoundVoice  Retweet\n",
       "11948     JohanTrevino         GameStop  Retweet\n",
       "\n",
       "[11949 rows x 3 columns]"
      ]
     },
     "execution_count": 61,
     "metadata": {
      "tags": []
     },
     "output_type": "execute_result"
    }
   ],
   "source": [
    "edges_df"
   ]
  },
  {
   "cell_type": "code",
   "execution_count": null,
   "metadata": {
    "id": "zbRi57l_EV9m"
   },
   "outputs": [],
   "source": [
    "Graph = nx.from_pandas_edgelist(edges_df,source='Source',target='Target', edge_attr=None, create_using=nx.DiGraph())"
   ]
  },
  {
   "cell_type": "code",
   "execution_count": null,
   "metadata": {
    "id": "24mxV_GKEZSq"
   },
   "outputs": [],
   "source": [
    "in_degree = pd.DataFrame.from_dict(nx.in_degree_centrality(Graph), orient=\"index\", columns = [\"in degree\"])\n",
    "out_degree = pd.DataFrame.from_dict(nx.out_degree_centrality(Graph), orient=\"index\", columns = [\"out degree\"])\n",
    "betweenness = pd.DataFrame.from_dict(nx.betweenness_centrality(Graph), orient=\"index\", columns = [\"betweenness\"])\n",
    "closeness = pd.DataFrame.from_dict(nx.closeness_centrality(Graph), orient=\"index\", columns = [\"closeness\"])\n",
    "\n",
    "result = pd.concat([in_degree, out_degree, betweenness, closeness], axis=1)\n"
   ]
  },
  {
   "cell_type": "code",
   "execution_count": null,
   "metadata": {
    "colab": {
     "base_uri": "https://localhost:8080/",
     "height": 824
    },
    "id": "Dkc2CbN-EcQ6",
    "outputId": "1e7cb06e-2499-400b-c3f5-01b4aac9cb43"
   },
   "outputs": [
    {
     "data": {
      "text/html": [
       "<div>\n",
       "<style scoped>\n",
       "    .dataframe tbody tr th:only-of-type {\n",
       "        vertical-align: middle;\n",
       "    }\n",
       "\n",
       "    .dataframe tbody tr th {\n",
       "        vertical-align: top;\n",
       "    }\n",
       "\n",
       "    .dataframe thead th {\n",
       "        text-align: right;\n",
       "    }\n",
       "</style>\n",
       "<table border=\"1\" class=\"dataframe\">\n",
       "  <thead>\n",
       "    <tr style=\"text-align: right;\">\n",
       "      <th></th>\n",
       "      <th>in degree</th>\n",
       "      <th>out degree</th>\n",
       "      <th>betweenness</th>\n",
       "      <th>closeness</th>\n",
       "      <th>in-deg+bet+clos</th>\n",
       "    </tr>\n",
       "  </thead>\n",
       "  <tbody>\n",
       "    <tr>\n",
       "      <th>DanPriceSeattle</th>\n",
       "      <td>0.143578</td>\n",
       "      <td>0.000000</td>\n",
       "      <td>0.000000e+00</td>\n",
       "      <td>0.143578</td>\n",
       "      <td>0.287156</td>\n",
       "    </tr>\n",
       "    <tr>\n",
       "      <th>charliebilello</th>\n",
       "      <td>0.114824</td>\n",
       "      <td>0.000095</td>\n",
       "      <td>0.000000e+00</td>\n",
       "      <td>0.114734</td>\n",
       "      <td>0.229558</td>\n",
       "    </tr>\n",
       "    <tr>\n",
       "      <th>YahooFinance</th>\n",
       "      <td>0.030848</td>\n",
       "      <td>0.000571</td>\n",
       "      <td>1.539403e-05</td>\n",
       "      <td>0.030981</td>\n",
       "      <td>0.061845</td>\n",
       "    </tr>\n",
       "    <tr>\n",
       "      <th>TheStreet</th>\n",
       "      <td>0.016186</td>\n",
       "      <td>0.000095</td>\n",
       "      <td>0.000000e+00</td>\n",
       "      <td>0.016093</td>\n",
       "      <td>0.032279</td>\n",
       "    </tr>\n",
       "    <tr>\n",
       "      <th>MarcGiller</th>\n",
       "      <td>0.013996</td>\n",
       "      <td>0.000095</td>\n",
       "      <td>0.000000e+00</td>\n",
       "      <td>0.013901</td>\n",
       "      <td>0.027897</td>\n",
       "    </tr>\n",
       "    <tr>\n",
       "      <th>RobinhoodApp</th>\n",
       "      <td>0.011330</td>\n",
       "      <td>0.000000</td>\n",
       "      <td>0.000000e+00</td>\n",
       "      <td>0.015319</td>\n",
       "      <td>0.026649</td>\n",
       "    </tr>\n",
       "    <tr>\n",
       "      <th>premnsikka</th>\n",
       "      <td>0.012377</td>\n",
       "      <td>0.000095</td>\n",
       "      <td>0.000000e+00</td>\n",
       "      <td>0.012282</td>\n",
       "      <td>0.024660</td>\n",
       "    </tr>\n",
       "    <tr>\n",
       "      <th>ruttigerrr</th>\n",
       "      <td>0.011425</td>\n",
       "      <td>0.000000</td>\n",
       "      <td>0.000000e+00</td>\n",
       "      <td>0.011425</td>\n",
       "      <td>0.022851</td>\n",
       "    </tr>\n",
       "    <tr>\n",
       "      <th>GameStop</th>\n",
       "      <td>0.011044</td>\n",
       "      <td>0.000000</td>\n",
       "      <td>0.000000e+00</td>\n",
       "      <td>0.011558</td>\n",
       "      <td>0.022603</td>\n",
       "    </tr>\n",
       "    <tr>\n",
       "      <th>BrianSozzi</th>\n",
       "      <td>0.002952</td>\n",
       "      <td>0.000190</td>\n",
       "      <td>1.359897e-07</td>\n",
       "      <td>0.017176</td>\n",
       "      <td>0.020127</td>\n",
       "    </tr>\n",
       "    <tr>\n",
       "      <th>ines_ferre</th>\n",
       "      <td>0.002761</td>\n",
       "      <td>0.000000</td>\n",
       "      <td>0.000000e+00</td>\n",
       "      <td>0.017178</td>\n",
       "      <td>0.019939</td>\n",
       "    </tr>\n",
       "    <tr>\n",
       "      <th>DanielHowley</th>\n",
       "      <td>0.001428</td>\n",
       "      <td>0.000000</td>\n",
       "      <td>0.000000e+00</td>\n",
       "      <td>0.017950</td>\n",
       "      <td>0.019379</td>\n",
       "    </tr>\n",
       "    <tr>\n",
       "      <th>ewolffmann</th>\n",
       "      <td>0.001333</td>\n",
       "      <td>0.000000</td>\n",
       "      <td>0.000000e+00</td>\n",
       "      <td>0.016896</td>\n",
       "      <td>0.018229</td>\n",
       "    </tr>\n",
       "    <tr>\n",
       "      <th>MylesUdland</th>\n",
       "      <td>0.001047</td>\n",
       "      <td>0.000000</td>\n",
       "      <td>0.000000e+00</td>\n",
       "      <td>0.016784</td>\n",
       "      <td>0.017832</td>\n",
       "    </tr>\n",
       "    <tr>\n",
       "      <th>RichEater420</th>\n",
       "      <td>0.008855</td>\n",
       "      <td>0.000286</td>\n",
       "      <td>1.640942e-06</td>\n",
       "      <td>0.008759</td>\n",
       "      <td>0.017616</td>\n",
       "    </tr>\n",
       "    <tr>\n",
       "      <th>TommyBeer</th>\n",
       "      <td>0.008664</td>\n",
       "      <td>0.000095</td>\n",
       "      <td>0.000000e+00</td>\n",
       "      <td>0.008569</td>\n",
       "      <td>0.017233</td>\n",
       "    </tr>\n",
       "    <tr>\n",
       "      <th>BitSigmaBTC</th>\n",
       "      <td>0.008093</td>\n",
       "      <td>0.000000</td>\n",
       "      <td>0.000000e+00</td>\n",
       "      <td>0.008093</td>\n",
       "      <td>0.016186</td>\n",
       "    </tr>\n",
       "    <tr>\n",
       "      <th>banditgiveaways</th>\n",
       "      <td>0.007522</td>\n",
       "      <td>0.000095</td>\n",
       "      <td>0.000000e+00</td>\n",
       "      <td>0.007431</td>\n",
       "      <td>0.014953</td>\n",
       "    </tr>\n",
       "    <tr>\n",
       "      <th>WSBChairman</th>\n",
       "      <td>0.005617</td>\n",
       "      <td>0.000000</td>\n",
       "      <td>0.000000e+00</td>\n",
       "      <td>0.006232</td>\n",
       "      <td>0.011849</td>\n",
       "    </tr>\n",
       "    <tr>\n",
       "      <th>DavidNdii</th>\n",
       "      <td>0.005903</td>\n",
       "      <td>0.000000</td>\n",
       "      <td>0.000000e+00</td>\n",
       "      <td>0.005903</td>\n",
       "      <td>0.011806</td>\n",
       "    </tr>\n",
       "    <tr>\n",
       "      <th>stoolpresidente</th>\n",
       "      <td>0.004951</td>\n",
       "      <td>0.000000</td>\n",
       "      <td>0.000000e+00</td>\n",
       "      <td>0.005791</td>\n",
       "      <td>0.010742</td>\n",
       "    </tr>\n",
       "    <tr>\n",
       "      <th>PressSec</th>\n",
       "      <td>0.005046</td>\n",
       "      <td>0.000000</td>\n",
       "      <td>0.000000e+00</td>\n",
       "      <td>0.005046</td>\n",
       "      <td>0.010092</td>\n",
       "    </tr>\n",
       "    <tr>\n",
       "      <th>JoeBiden</th>\n",
       "      <td>0.004951</td>\n",
       "      <td>0.000000</td>\n",
       "      <td>0.000000e+00</td>\n",
       "      <td>0.004951</td>\n",
       "      <td>0.009902</td>\n",
       "    </tr>\n",
       "    <tr>\n",
       "      <th>YouTube</th>\n",
       "      <td>0.004951</td>\n",
       "      <td>0.000000</td>\n",
       "      <td>0.000000e+00</td>\n",
       "      <td>0.004951</td>\n",
       "      <td>0.009902</td>\n",
       "    </tr>\n",
       "    <tr>\n",
       "      <th>joelpollak</th>\n",
       "      <td>0.004856</td>\n",
       "      <td>0.000190</td>\n",
       "      <td>0.000000e+00</td>\n",
       "      <td>0.004856</td>\n",
       "      <td>0.009712</td>\n",
       "    </tr>\n",
       "  </tbody>\n",
       "</table>\n",
       "</div>"
      ],
      "text/plain": [
       "                 in degree  out degree  ...  closeness  in-deg+bet+clos\n",
       "DanPriceSeattle   0.143578    0.000000  ...   0.143578         0.287156\n",
       "charliebilello    0.114824    0.000095  ...   0.114734         0.229558\n",
       "YahooFinance      0.030848    0.000571  ...   0.030981         0.061845\n",
       "TheStreet         0.016186    0.000095  ...   0.016093         0.032279\n",
       "MarcGiller        0.013996    0.000095  ...   0.013901         0.027897\n",
       "RobinhoodApp      0.011330    0.000000  ...   0.015319         0.026649\n",
       "premnsikka        0.012377    0.000095  ...   0.012282         0.024660\n",
       "ruttigerrr        0.011425    0.000000  ...   0.011425         0.022851\n",
       "GameStop          0.011044    0.000000  ...   0.011558         0.022603\n",
       "BrianSozzi        0.002952    0.000190  ...   0.017176         0.020127\n",
       "ines_ferre        0.002761    0.000000  ...   0.017178         0.019939\n",
       "DanielHowley      0.001428    0.000000  ...   0.017950         0.019379\n",
       "ewolffmann        0.001333    0.000000  ...   0.016896         0.018229\n",
       "MylesUdland       0.001047    0.000000  ...   0.016784         0.017832\n",
       "RichEater420      0.008855    0.000286  ...   0.008759         0.017616\n",
       "TommyBeer         0.008664    0.000095  ...   0.008569         0.017233\n",
       "BitSigmaBTC       0.008093    0.000000  ...   0.008093         0.016186\n",
       "banditgiveaways   0.007522    0.000095  ...   0.007431         0.014953\n",
       "WSBChairman       0.005617    0.000000  ...   0.006232         0.011849\n",
       "DavidNdii         0.005903    0.000000  ...   0.005903         0.011806\n",
       "stoolpresidente   0.004951    0.000000  ...   0.005791         0.010742\n",
       "PressSec          0.005046    0.000000  ...   0.005046         0.010092\n",
       "JoeBiden          0.004951    0.000000  ...   0.004951         0.009902\n",
       "YouTube           0.004951    0.000000  ...   0.004951         0.009902\n",
       "joelpollak        0.004856    0.000190  ...   0.004856         0.009712\n",
       "\n",
       "[25 rows x 5 columns]"
      ]
     },
     "execution_count": 65,
     "metadata": {
      "tags": []
     },
     "output_type": "execute_result"
    }
   ],
   "source": [
    "result[\"in-deg+bet+clos\"] = result[\"in degree\"] + result[\"betweenness\"] + result[\"closeness\"]\n",
    "result.sort_values(\"in-deg+bet+clos\", ascending=False)[:25]"
   ]
  },
  {
   "cell_type": "markdown",
   "metadata": {
    "id": "Ro_PQSI5EqnJ"
   },
   "source": [
    "## Identify Network Influencers "
   ]
  },
  {
   "cell_type": "code",
   "execution_count": null,
   "metadata": {
    "id": "6-xmodGGEw7k"
   },
   "outputs": [],
   "source": [
    "import pandas as pd\n",
    "import numpy as np\n",
    "from sklearn.preprocessing import StandardScaler"
   ]
  },
  {
   "cell_type": "code",
   "execution_count": null,
   "metadata": {
    "id": "vxv2KlOhExyv"
   },
   "outputs": [],
   "source": [
    "df = edges_df\n",
    "query = tweets\n",
    "calcs = result"
   ]
  },
  {
   "cell_type": "code",
   "execution_count": null,
   "metadata": {
    "colab": {
     "base_uri": "https://localhost:8080/"
    },
    "id": "CM0PKmR8FIFT",
    "outputId": "f38301b8-398d-4c4a-b0c6-fdb03838dd37"
   },
   "outputs": [
    {
     "data": {
      "text/plain": [
       "11949"
      ]
     },
     "execution_count": 70,
     "metadata": {
      "tags": []
     },
     "output_type": "execute_result"
    }
   ],
   "source": [
    "len(df)"
   ]
  },
  {
   "cell_type": "code",
   "execution_count": null,
   "metadata": {
    "colab": {
     "base_uri": "https://localhost:8080/"
    },
    "id": "IVheo_IVFOTP",
    "outputId": "5747768a-ac6d-41c9-b9c8-238c96be6c77"
   },
   "outputs": [
    {
     "data": {
      "text/plain": [
       "10729"
      ]
     },
     "execution_count": 71,
     "metadata": {
      "tags": []
     },
     "output_type": "execute_result"
    }
   ],
   "source": [
    "len(query)"
   ]
  },
  {
   "cell_type": "code",
   "execution_count": null,
   "metadata": {
    "colab": {
     "base_uri": "https://localhost:8080/"
    },
    "id": "0Wnhh6hQFQXj",
    "outputId": "ffece925-7379-455e-9dff-45167b99849b"
   },
   "outputs": [
    {
     "data": {
      "text/plain": [
       "10504"
      ]
     },
     "execution_count": 72,
     "metadata": {
      "tags": []
     },
     "output_type": "execute_result"
    }
   ],
   "source": [
    "len(calcs)"
   ]
  },
  {
   "cell_type": "code",
   "execution_count": null,
   "metadata": {
    "colab": {
     "base_uri": "https://localhost:8080/",
     "height": 204
    },
    "id": "nwOeMk8BFSbY",
    "outputId": "f2481fdf-50c8-4072-d550-45eb8ed12903"
   },
   "outputs": [
    {
     "data": {
      "text/html": [
       "<div>\n",
       "<style scoped>\n",
       "    .dataframe tbody tr th:only-of-type {\n",
       "        vertical-align: middle;\n",
       "    }\n",
       "\n",
       "    .dataframe tbody tr th {\n",
       "        vertical-align: top;\n",
       "    }\n",
       "\n",
       "    .dataframe thead th {\n",
       "        text-align: right;\n",
       "    }\n",
       "</style>\n",
       "<table border=\"1\" class=\"dataframe\">\n",
       "  <thead>\n",
       "    <tr style=\"text-align: right;\">\n",
       "      <th></th>\n",
       "      <th>in degree</th>\n",
       "      <th>out degree</th>\n",
       "      <th>betweenness</th>\n",
       "      <th>closeness</th>\n",
       "      <th>in-deg+bet+clos</th>\n",
       "    </tr>\n",
       "  </thead>\n",
       "  <tbody>\n",
       "    <tr>\n",
       "      <th>LandoPSD</th>\n",
       "      <td>0.000095</td>\n",
       "      <td>0.000095</td>\n",
       "      <td>0.0</td>\n",
       "      <td>0.000000</td>\n",
       "      <td>0.000095</td>\n",
       "    </tr>\n",
       "    <tr>\n",
       "      <th>kimmb24</th>\n",
       "      <td>0.000000</td>\n",
       "      <td>0.000190</td>\n",
       "      <td>0.0</td>\n",
       "      <td>0.000000</td>\n",
       "      <td>0.000000</td>\n",
       "    </tr>\n",
       "    <tr>\n",
       "      <th>rhonda_</th>\n",
       "      <td>0.000095</td>\n",
       "      <td>0.000000</td>\n",
       "      <td>0.0</td>\n",
       "      <td>0.000095</td>\n",
       "      <td>0.000190</td>\n",
       "    </tr>\n",
       "    <tr>\n",
       "      <th>GameStop</th>\n",
       "      <td>0.011044</td>\n",
       "      <td>0.000000</td>\n",
       "      <td>0.0</td>\n",
       "      <td>0.011558</td>\n",
       "      <td>0.022603</td>\n",
       "    </tr>\n",
       "    <tr>\n",
       "      <th>caseyproo</th>\n",
       "      <td>0.000000</td>\n",
       "      <td>0.000095</td>\n",
       "      <td>0.0</td>\n",
       "      <td>0.000000</td>\n",
       "      <td>0.000000</td>\n",
       "    </tr>\n",
       "  </tbody>\n",
       "</table>\n",
       "</div>"
      ],
      "text/plain": [
       "           in degree  out degree  betweenness  closeness  in-deg+bet+clos\n",
       "LandoPSD    0.000095    0.000095          0.0   0.000000         0.000095\n",
       "kimmb24     0.000000    0.000190          0.0   0.000000         0.000000\n",
       "rhonda_     0.000095    0.000000          0.0   0.000095         0.000190\n",
       "GameStop    0.011044    0.000000          0.0   0.011558         0.022603\n",
       "caseyproo   0.000000    0.000095          0.0   0.000000         0.000000"
      ]
     },
     "execution_count": 73,
     "metadata": {
      "tags": []
     },
     "output_type": "execute_result"
    }
   ],
   "source": [
    "calcs.head()"
   ]
  },
  {
   "cell_type": "code",
   "execution_count": null,
   "metadata": {
    "colab": {
     "base_uri": "https://localhost:8080/",
     "height": 462
    },
    "id": "TZfmZcwkFZkB",
    "outputId": "10619108-c71b-46fa-a9f0-9cce0b6feb2b"
   },
   "outputs": [
    {
     "data": {
      "text/html": [
       "<div>\n",
       "<style scoped>\n",
       "    .dataframe tbody tr th:only-of-type {\n",
       "        vertical-align: middle;\n",
       "    }\n",
       "\n",
       "    .dataframe tbody tr th {\n",
       "        vertical-align: top;\n",
       "    }\n",
       "\n",
       "    .dataframe thead th {\n",
       "        text-align: right;\n",
       "    }\n",
       "</style>\n",
       "<table border=\"1\" class=\"dataframe\">\n",
       "  <thead>\n",
       "    <tr style=\"text-align: right;\">\n",
       "      <th></th>\n",
       "      <th>id</th>\n",
       "      <th>created_at</th>\n",
       "      <th>text</th>\n",
       "      <th>screen_name</th>\n",
       "      <th>verified_user</th>\n",
       "      <th>followers_count</th>\n",
       "      <th>friends_count</th>\n",
       "      <th>statuses_count</th>\n",
       "      <th>retweet_count</th>\n",
       "      <th>favorite_count</th>\n",
       "      <th>retweeted</th>\n",
       "      <th>in_reply_to_user_id</th>\n",
       "      <th>in_reply_to_screen_name</th>\n",
       "      <th>rt_name</th>\n",
       "    </tr>\n",
       "  </thead>\n",
       "  <tbody>\n",
       "    <tr>\n",
       "      <th>0</th>\n",
       "      <td>1.354830e+18</td>\n",
       "      <td>1/28/21 16:43</td>\n",
       "      <td>b'Same people who invested in game stop are th...</td>\n",
       "      <td>LandoPSD</td>\n",
       "      <td>False</td>\n",
       "      <td>506</td>\n",
       "      <td>465</td>\n",
       "      <td>5439</td>\n",
       "      <td>0</td>\n",
       "      <td>4</td>\n",
       "      <td>False</td>\n",
       "      <td>NaN</td>\n",
       "      <td>NaN</td>\n",
       "      <td>[LandoPSD]</td>\n",
       "    </tr>\n",
       "    <tr>\n",
       "      <th>1</th>\n",
       "      <td>1.354830e+18</td>\n",
       "      <td>1/28/21 16:43</td>\n",
       "      <td>b'@kenzybell4 @rhonda_ @GameStop I just though...</td>\n",
       "      <td>kimmb24</td>\n",
       "      <td>False</td>\n",
       "      <td>1061</td>\n",
       "      <td>1519</td>\n",
       "      <td>8301</td>\n",
       "      <td>0</td>\n",
       "      <td>1</td>\n",
       "      <td>False</td>\n",
       "      <td>1.000000e+18</td>\n",
       "      <td>kenzybell4</td>\n",
       "      <td>[rhonda_, GameStop]</td>\n",
       "    </tr>\n",
       "    <tr>\n",
       "      <th>2</th>\n",
       "      <td>1.354830e+18</td>\n",
       "      <td>1/28/21 16:43</td>\n",
       "      <td>b'RT @DanPriceSeattle: *Stock market hits reco...</td>\n",
       "      <td>caseyproo</td>\n",
       "      <td>False</td>\n",
       "      <td>177</td>\n",
       "      <td>376</td>\n",
       "      <td>11157</td>\n",
       "      <td>17470</td>\n",
       "      <td>0</td>\n",
       "      <td>False</td>\n",
       "      <td>NaN</td>\n",
       "      <td>NaN</td>\n",
       "      <td>[DanPriceSeattle]</td>\n",
       "    </tr>\n",
       "    <tr>\n",
       "      <th>3</th>\n",
       "      <td>1.354830e+18</td>\n",
       "      <td>1/28/21 16:43</td>\n",
       "      <td>b'I have been reading a lot of Gamestop analys...</td>\n",
       "      <td>karenkho</td>\n",
       "      <td>False</td>\n",
       "      <td>44282</td>\n",
       "      <td>4567</td>\n",
       "      <td>31983</td>\n",
       "      <td>8</td>\n",
       "      <td>29</td>\n",
       "      <td>False</td>\n",
       "      <td>NaN</td>\n",
       "      <td>NaN</td>\n",
       "      <td>[ranjanxroy, ReadMargins]</td>\n",
       "    </tr>\n",
       "    <tr>\n",
       "      <th>4</th>\n",
       "      <td>1.354830e+18</td>\n",
       "      <td>1/28/21 16:43</td>\n",
       "      <td>b'RT @DanPriceSeattle: *Stock market hits reco...</td>\n",
       "      <td>RyanRow1and</td>\n",
       "      <td>False</td>\n",
       "      <td>19</td>\n",
       "      <td>76</td>\n",
       "      <td>280</td>\n",
       "      <td>17470</td>\n",
       "      <td>0</td>\n",
       "      <td>False</td>\n",
       "      <td>NaN</td>\n",
       "      <td>NaN</td>\n",
       "      <td>[DanPriceSeattle]</td>\n",
       "    </tr>\n",
       "  </tbody>\n",
       "</table>\n",
       "</div>"
      ],
      "text/plain": [
       "             id  ...                    rt_name\n",
       "0  1.354830e+18  ...                 [LandoPSD]\n",
       "1  1.354830e+18  ...        [rhonda_, GameStop]\n",
       "2  1.354830e+18  ...          [DanPriceSeattle]\n",
       "3  1.354830e+18  ...  [ranjanxroy, ReadMargins]\n",
       "4  1.354830e+18  ...          [DanPriceSeattle]\n",
       "\n",
       "[5 rows x 14 columns]"
      ]
     },
     "execution_count": 74,
     "metadata": {
      "tags": []
     },
     "output_type": "execute_result"
    }
   ],
   "source": [
    "query.head()"
   ]
  },
  {
   "cell_type": "code",
   "execution_count": null,
   "metadata": {
    "colab": {
     "base_uri": "https://localhost:8080/",
     "height": 204
    },
    "id": "eDeXb0CnFcIK",
    "outputId": "99e5b552-f221-41c9-877b-7493d741e221"
   },
   "outputs": [
    {
     "data": {
      "text/html": [
       "<div>\n",
       "<style scoped>\n",
       "    .dataframe tbody tr th:only-of-type {\n",
       "        vertical-align: middle;\n",
       "    }\n",
       "\n",
       "    .dataframe tbody tr th {\n",
       "        vertical-align: top;\n",
       "    }\n",
       "\n",
       "    .dataframe thead th {\n",
       "        text-align: right;\n",
       "    }\n",
       "</style>\n",
       "<table border=\"1\" class=\"dataframe\">\n",
       "  <thead>\n",
       "    <tr style=\"text-align: right;\">\n",
       "      <th></th>\n",
       "      <th>Source</th>\n",
       "      <th>Target</th>\n",
       "      <th>Type</th>\n",
       "    </tr>\n",
       "  </thead>\n",
       "  <tbody>\n",
       "    <tr>\n",
       "      <th>0</th>\n",
       "      <td>LandoPSD</td>\n",
       "      <td>LandoPSD</td>\n",
       "      <td>Tweet</td>\n",
       "    </tr>\n",
       "    <tr>\n",
       "      <th>1</th>\n",
       "      <td>kimmb24</td>\n",
       "      <td>rhonda_</td>\n",
       "      <td>Retweet</td>\n",
       "    </tr>\n",
       "    <tr>\n",
       "      <th>2</th>\n",
       "      <td>kimmb24</td>\n",
       "      <td>GameStop</td>\n",
       "      <td>Retweet</td>\n",
       "    </tr>\n",
       "    <tr>\n",
       "      <th>3</th>\n",
       "      <td>caseyproo</td>\n",
       "      <td>DanPriceSeattle</td>\n",
       "      <td>Retweet</td>\n",
       "    </tr>\n",
       "    <tr>\n",
       "      <th>4</th>\n",
       "      <td>karenkho</td>\n",
       "      <td>ranjanxroy</td>\n",
       "      <td>Retweet</td>\n",
       "    </tr>\n",
       "  </tbody>\n",
       "</table>\n",
       "</div>"
      ],
      "text/plain": [
       "      Source           Target     Type\n",
       "0   LandoPSD         LandoPSD    Tweet\n",
       "1    kimmb24          rhonda_  Retweet\n",
       "2    kimmb24         GameStop  Retweet\n",
       "3  caseyproo  DanPriceSeattle  Retweet\n",
       "4   karenkho       ranjanxroy  Retweet"
      ]
     },
     "execution_count": 75,
     "metadata": {
      "tags": []
     },
     "output_type": "execute_result"
    }
   ],
   "source": [
    "df.head()"
   ]
  },
  {
   "cell_type": "markdown",
   "metadata": {
    "id": "bb7NkNVFE3bM"
   },
   "source": [
    "**We merged the degree, betweenness, and closeness scores on the query of the original Tweets to get the retweets and following information from the Twitter API.**"
   ]
  },
  {
   "cell_type": "code",
   "execution_count": null,
   "metadata": {
    "id": "3lhcHDn4Ffck"
   },
   "outputs": [],
   "source": [
    "combined = query.merge(calcs, left_on = 'screen_name', right_index=True)"
   ]
  },
  {
   "cell_type": "code",
   "execution_count": null,
   "metadata": {
    "id": "fSe5gNg8Fsf4"
   },
   "outputs": [],
   "source": [
    "combined_dropped = combined.drop(labels=['id', 'created_at', 'verified_user', 'friends_count', 'favorite_count','retweeted','in_reply_to_user_id','in_reply_to_screen_name','in degree','out degree', 'betweenness','closeness'],\n",
    "             axis=1)"
   ]
  },
  {
   "cell_type": "code",
   "execution_count": null,
   "metadata": {
    "colab": {
     "base_uri": "https://localhost:8080/",
     "height": 442
    },
    "id": "VStxyr1wF0FM",
    "outputId": "6082876e-a568-4124-b49c-d172385e9d9a"
   },
   "outputs": [
    {
     "data": {
      "text/html": [
       "<div>\n",
       "<style scoped>\n",
       "    .dataframe tbody tr th:only-of-type {\n",
       "        vertical-align: middle;\n",
       "    }\n",
       "\n",
       "    .dataframe tbody tr th {\n",
       "        vertical-align: top;\n",
       "    }\n",
       "\n",
       "    .dataframe thead th {\n",
       "        text-align: right;\n",
       "    }\n",
       "</style>\n",
       "<table border=\"1\" class=\"dataframe\">\n",
       "  <thead>\n",
       "    <tr style=\"text-align: right;\">\n",
       "      <th></th>\n",
       "      <th>text</th>\n",
       "      <th>screen_name</th>\n",
       "      <th>followers_count</th>\n",
       "      <th>statuses_count</th>\n",
       "      <th>retweet_count</th>\n",
       "      <th>rt_name</th>\n",
       "      <th>in-deg+bet+clos</th>\n",
       "    </tr>\n",
       "  </thead>\n",
       "  <tbody>\n",
       "    <tr>\n",
       "      <th>0</th>\n",
       "      <td>b'Same people who invested in game stop are th...</td>\n",
       "      <td>LandoPSD</td>\n",
       "      <td>506</td>\n",
       "      <td>5439</td>\n",
       "      <td>0</td>\n",
       "      <td>[LandoPSD]</td>\n",
       "      <td>0.000095</td>\n",
       "    </tr>\n",
       "    <tr>\n",
       "      <th>1</th>\n",
       "      <td>b'@kenzybell4 @rhonda_ @GameStop I just though...</td>\n",
       "      <td>kimmb24</td>\n",
       "      <td>1061</td>\n",
       "      <td>8301</td>\n",
       "      <td>0</td>\n",
       "      <td>[rhonda_, GameStop]</td>\n",
       "      <td>0.000000</td>\n",
       "    </tr>\n",
       "    <tr>\n",
       "      <th>2</th>\n",
       "      <td>b'RT @DanPriceSeattle: *Stock market hits reco...</td>\n",
       "      <td>caseyproo</td>\n",
       "      <td>177</td>\n",
       "      <td>11157</td>\n",
       "      <td>17470</td>\n",
       "      <td>[DanPriceSeattle]</td>\n",
       "      <td>0.000000</td>\n",
       "    </tr>\n",
       "    <tr>\n",
       "      <th>3</th>\n",
       "      <td>b'I have been reading a lot of Gamestop analys...</td>\n",
       "      <td>karenkho</td>\n",
       "      <td>44282</td>\n",
       "      <td>31983</td>\n",
       "      <td>8</td>\n",
       "      <td>[ranjanxroy, ReadMargins]</td>\n",
       "      <td>0.001555</td>\n",
       "    </tr>\n",
       "    <tr>\n",
       "      <th>4</th>\n",
       "      <td>b'RT @DanPriceSeattle: *Stock market hits reco...</td>\n",
       "      <td>RyanRow1and</td>\n",
       "      <td>19</td>\n",
       "      <td>280</td>\n",
       "      <td>17470</td>\n",
       "      <td>[DanPriceSeattle]</td>\n",
       "      <td>0.000000</td>\n",
       "    </tr>\n",
       "  </tbody>\n",
       "</table>\n",
       "</div>"
      ],
      "text/plain": [
       "                                                text  ... in-deg+bet+clos\n",
       "0  b'Same people who invested in game stop are th...  ...        0.000095\n",
       "1  b'@kenzybell4 @rhonda_ @GameStop I just though...  ...        0.000000\n",
       "2  b'RT @DanPriceSeattle: *Stock market hits reco...  ...        0.000000\n",
       "3  b'I have been reading a lot of Gamestop analys...  ...        0.001555\n",
       "4  b'RT @DanPriceSeattle: *Stock market hits reco...  ...        0.000000\n",
       "\n",
       "[5 rows x 7 columns]"
      ]
     },
     "execution_count": 79,
     "metadata": {
      "tags": []
     },
     "output_type": "execute_result"
    }
   ],
   "source": [
    "combined_dropped.head()"
   ]
  },
  {
   "cell_type": "markdown",
   "metadata": {
    "id": "DUkeQWPiEvTk"
   },
   "source": [
    "**We normalized all the data before creating overall scores.**"
   ]
  },
  {
   "cell_type": "code",
   "execution_count": null,
   "metadata": {
    "id": "AXL7paYYF6kL"
   },
   "outputs": [],
   "source": [
    "scaler = StandardScaler()\n",
    "combined_dropped[['followers_count','statuses_count','retweet_count','in-deg+bet+clos']] = scaler.fit_transform(combined_dropped[['followers_count','statuses_count','retweet_count','in-deg+bet+clos']])\n"
   ]
  },
  {
   "cell_type": "code",
   "execution_count": null,
   "metadata": {
    "colab": {
     "base_uri": "https://localhost:8080/",
     "height": 442
    },
    "id": "d5tfB3YhF7hO",
    "outputId": "2b3f6a18-1d09-442a-d030-9076643529a7"
   },
   "outputs": [
    {
     "data": {
      "text/html": [
       "<div>\n",
       "<style scoped>\n",
       "    .dataframe tbody tr th:only-of-type {\n",
       "        vertical-align: middle;\n",
       "    }\n",
       "\n",
       "    .dataframe tbody tr th {\n",
       "        vertical-align: top;\n",
       "    }\n",
       "\n",
       "    .dataframe thead th {\n",
       "        text-align: right;\n",
       "    }\n",
       "</style>\n",
       "<table border=\"1\" class=\"dataframe\">\n",
       "  <thead>\n",
       "    <tr style=\"text-align: right;\">\n",
       "      <th></th>\n",
       "      <th>text</th>\n",
       "      <th>screen_name</th>\n",
       "      <th>followers_count</th>\n",
       "      <th>statuses_count</th>\n",
       "      <th>retweet_count</th>\n",
       "      <th>rt_name</th>\n",
       "      <th>in-deg+bet+clos</th>\n",
       "    </tr>\n",
       "  </thead>\n",
       "  <tbody>\n",
       "    <tr>\n",
       "      <th>0</th>\n",
       "      <td>b'Same people who invested in game stop are th...</td>\n",
       "      <td>LandoPSD</td>\n",
       "      <td>-0.057976</td>\n",
       "      <td>-0.265547</td>\n",
       "      <td>-0.431391</td>\n",
       "      <td>[LandoPSD]</td>\n",
       "      <td>-0.054719</td>\n",
       "    </tr>\n",
       "    <tr>\n",
       "      <th>1</th>\n",
       "      <td>b'@kenzybell4 @rhonda_ @GameStop I just though...</td>\n",
       "      <td>kimmb24</td>\n",
       "      <td>-0.054184</td>\n",
       "      <td>-0.244141</td>\n",
       "      <td>-0.431391</td>\n",
       "      <td>[rhonda_, GameStop]</td>\n",
       "      <td>-0.078030</td>\n",
       "    </tr>\n",
       "    <tr>\n",
       "      <th>2</th>\n",
       "      <td>b'RT @DanPriceSeattle: *Stock market hits reco...</td>\n",
       "      <td>caseyproo</td>\n",
       "      <td>-0.060224</td>\n",
       "      <td>-0.222779</td>\n",
       "      <td>2.469499</td>\n",
       "      <td>[DanPriceSeattle]</td>\n",
       "      <td>-0.078030</td>\n",
       "    </tr>\n",
       "    <tr>\n",
       "      <th>3</th>\n",
       "      <td>b'I have been reading a lot of Gamestop analys...</td>\n",
       "      <td>karenkho</td>\n",
       "      <td>0.241143</td>\n",
       "      <td>-0.067009</td>\n",
       "      <td>-0.430063</td>\n",
       "      <td>[ranjanxroy, ReadMargins]</td>\n",
       "      <td>0.302706</td>\n",
       "    </tr>\n",
       "    <tr>\n",
       "      <th>4</th>\n",
       "      <td>b'RT @DanPriceSeattle: *Stock market hits reco...</td>\n",
       "      <td>RyanRow1and</td>\n",
       "      <td>-0.061304</td>\n",
       "      <td>-0.304134</td>\n",
       "      <td>2.469499</td>\n",
       "      <td>[DanPriceSeattle]</td>\n",
       "      <td>-0.078030</td>\n",
       "    </tr>\n",
       "  </tbody>\n",
       "</table>\n",
       "</div>"
      ],
      "text/plain": [
       "                                                text  ... in-deg+bet+clos\n",
       "0  b'Same people who invested in game stop are th...  ...       -0.054719\n",
       "1  b'@kenzybell4 @rhonda_ @GameStop I just though...  ...       -0.078030\n",
       "2  b'RT @DanPriceSeattle: *Stock market hits reco...  ...       -0.078030\n",
       "3  b'I have been reading a lot of Gamestop analys...  ...        0.302706\n",
       "4  b'RT @DanPriceSeattle: *Stock market hits reco...  ...       -0.078030\n",
       "\n",
       "[5 rows x 7 columns]"
      ]
     },
     "execution_count": 81,
     "metadata": {
      "tags": []
     },
     "output_type": "execute_result"
    }
   ],
   "source": [
    "combined_dropped.head()"
   ]
  },
  {
   "cell_type": "markdown",
   "metadata": {
    "id": "4-NwxZSZFCMu"
   },
   "source": [
    "**Based on the information we had available and the data given in the Twitter API output, we used followers_count, statuses_count, retweet_count, and our scaled in-degree+betweenness+closeness to build an influencer score. These weights were based on the relative feature importances in the XGBoost model with all predictors. We added together the importances of in-degree, betweeness, and closeness to get a weight of 42%. Retweet count is the second most important with a weight of 25%, followed by followers_count with a weight of 19%, and statuses count with a weight of 14%.**"
   ]
  },
  {
   "cell_type": "code",
   "execution_count": null,
   "metadata": {
    "id": "seLHcVgzF92F"
   },
   "outputs": [],
   "source": [
    "weights = [0.186999,0.139702,0.250465,0.422834]\n",
    "\n",
    "np.dot(weights,combined_dropped[['followers_count','statuses_count','retweet_count','in-deg+bet+clos']].iloc[0])\n",
    "combined_dropped['score'] = np.nan"
   ]
  },
  {
   "cell_type": "code",
   "execution_count": null,
   "metadata": {
    "colab": {
     "base_uri": "https://localhost:8080/"
    },
    "id": "X4z1TAGcGAQq",
    "outputId": "d28723ae-7e03-440f-8246-99512d82e620"
   },
   "outputs": [
    {
     "name": "stderr",
     "output_type": "stream",
     "text": [
      "/usr/local/lib/python3.6/dist-packages/pandas/core/indexing.py:670: SettingWithCopyWarning: \n",
      "A value is trying to be set on a copy of a slice from a DataFrame\n",
      "\n",
      "See the caveats in the documentation: https://pandas.pydata.org/pandas-docs/stable/user_guide/indexing.html#returning-a-view-versus-a-copy\n",
      "  iloc._setitem_with_indexer(indexer, value)\n"
     ]
    }
   ],
   "source": [
    "for val in range(len(combined_dropped)):\n",
    "    combined_dropped['score'].iloc[val] = np.dot(weights,combined_dropped[['followers_count','statuses_count','retweet_count','in-deg+bet+clos']].iloc[val])"
   ]
  },
  {
   "cell_type": "code",
   "execution_count": null,
   "metadata": {
    "colab": {
     "base_uri": "https://localhost:8080/",
     "height": 479
    },
    "id": "7uGJAbAdGDNb",
    "outputId": "bb7f9dd4-0c85-42d2-cbc5-63ea92d66b4f"
   },
   "outputs": [
    {
     "data": {
      "text/html": [
       "<div>\n",
       "<style scoped>\n",
       "    .dataframe tbody tr th:only-of-type {\n",
       "        vertical-align: middle;\n",
       "    }\n",
       "\n",
       "    .dataframe tbody tr th {\n",
       "        vertical-align: top;\n",
       "    }\n",
       "\n",
       "    .dataframe thead th {\n",
       "        text-align: right;\n",
       "    }\n",
       "</style>\n",
       "<table border=\"1\" class=\"dataframe\">\n",
       "  <thead>\n",
       "    <tr style=\"text-align: right;\">\n",
       "      <th></th>\n",
       "      <th>text</th>\n",
       "      <th>screen_name</th>\n",
       "      <th>followers_count</th>\n",
       "      <th>statuses_count</th>\n",
       "      <th>retweet_count</th>\n",
       "      <th>rt_name</th>\n",
       "      <th>in-deg+bet+clos</th>\n",
       "      <th>score</th>\n",
       "    </tr>\n",
       "  </thead>\n",
       "  <tbody>\n",
       "    <tr>\n",
       "      <th>0</th>\n",
       "      <td>b'Same people who invested in game stop are th...</td>\n",
       "      <td>LandoPSD</td>\n",
       "      <td>-0.057976</td>\n",
       "      <td>-0.265547</td>\n",
       "      <td>-0.431391</td>\n",
       "      <td>[LandoPSD]</td>\n",
       "      <td>-0.054719</td>\n",
       "      <td>-0.179125</td>\n",
       "    </tr>\n",
       "    <tr>\n",
       "      <th>1</th>\n",
       "      <td>b'@kenzybell4 @rhonda_ @GameStop I just though...</td>\n",
       "      <td>kimmb24</td>\n",
       "      <td>-0.054184</td>\n",
       "      <td>-0.244141</td>\n",
       "      <td>-0.431391</td>\n",
       "      <td>[rhonda_, GameStop]</td>\n",
       "      <td>-0.078030</td>\n",
       "      <td>-0.185281</td>\n",
       "    </tr>\n",
       "    <tr>\n",
       "      <th>2</th>\n",
       "      <td>b'RT @DanPriceSeattle: *Stock market hits reco...</td>\n",
       "      <td>caseyproo</td>\n",
       "      <td>-0.060224</td>\n",
       "      <td>-0.222779</td>\n",
       "      <td>2.469499</td>\n",
       "      <td>[DanPriceSeattle]</td>\n",
       "      <td>-0.078030</td>\n",
       "      <td>0.543145</td>\n",
       "    </tr>\n",
       "    <tr>\n",
       "      <th>3</th>\n",
       "      <td>b'I have been reading a lot of Gamestop analys...</td>\n",
       "      <td>karenkho</td>\n",
       "      <td>0.241143</td>\n",
       "      <td>-0.067009</td>\n",
       "      <td>-0.430063</td>\n",
       "      <td>[ranjanxroy, ReadMargins]</td>\n",
       "      <td>0.302706</td>\n",
       "      <td>0.056011</td>\n",
       "    </tr>\n",
       "    <tr>\n",
       "      <th>4</th>\n",
       "      <td>b'RT @DanPriceSeattle: *Stock market hits reco...</td>\n",
       "      <td>RyanRow1and</td>\n",
       "      <td>-0.061304</td>\n",
       "      <td>-0.304134</td>\n",
       "      <td>2.469499</td>\n",
       "      <td>[DanPriceSeattle]</td>\n",
       "      <td>-0.078030</td>\n",
       "      <td>0.531578</td>\n",
       "    </tr>\n",
       "  </tbody>\n",
       "</table>\n",
       "</div>"
      ],
      "text/plain": [
       "                                                text  ...     score\n",
       "0  b'Same people who invested in game stop are th...  ... -0.179125\n",
       "1  b'@kenzybell4 @rhonda_ @GameStop I just though...  ... -0.185281\n",
       "2  b'RT @DanPriceSeattle: *Stock market hits reco...  ...  0.543145\n",
       "3  b'I have been reading a lot of Gamestop analys...  ...  0.056011\n",
       "4  b'RT @DanPriceSeattle: *Stock market hits reco...  ...  0.531578\n",
       "\n",
       "[5 rows x 8 columns]"
      ]
     },
     "execution_count": 84,
     "metadata": {
      "tags": []
     },
     "output_type": "execute_result"
    }
   ],
   "source": [
    "combined_dropped.head()"
   ]
  },
  {
   "cell_type": "code",
   "execution_count": null,
   "metadata": {
    "id": "EG0cJfXaGG_5"
   },
   "outputs": [],
   "source": [
    "names_scores = combined_dropped[[\"screen_name\",\"score\"]].sort_values(by=\"score\", ascending = False)"
   ]
  },
  {
   "cell_type": "markdown",
   "metadata": {
    "id": "zwTSqNR9GGSJ"
   },
   "source": [
    "**Because some people are retweeted multiple times and can tweet multiple times in our dataset, we ended up with duplicate scores for certain users. To solve this, we simply took the highest score value for each user to rank influencers.**"
   ]
  },
  {
   "cell_type": "code",
   "execution_count": null,
   "metadata": {
    "colab": {
     "base_uri": "https://localhost:8080/",
     "height": 419
    },
    "id": "3Ix10GFjHmvT",
    "outputId": "2b51c636-37f0-4f5e-e79e-1868e116f99e"
   },
   "outputs": [
    {
     "data": {
      "text/html": [
       "<div>\n",
       "<style scoped>\n",
       "    .dataframe tbody tr th:only-of-type {\n",
       "        vertical-align: middle;\n",
       "    }\n",
       "\n",
       "    .dataframe tbody tr th {\n",
       "        vertical-align: top;\n",
       "    }\n",
       "\n",
       "    .dataframe thead th {\n",
       "        text-align: right;\n",
       "    }\n",
       "</style>\n",
       "<table border=\"1\" class=\"dataframe\">\n",
       "  <thead>\n",
       "    <tr style=\"text-align: right;\">\n",
       "      <th></th>\n",
       "      <th>screen_name</th>\n",
       "      <th>score</th>\n",
       "    </tr>\n",
       "  </thead>\n",
       "  <tbody>\n",
       "    <tr>\n",
       "      <th>5630</th>\n",
       "      <td>charliebilello</td>\n",
       "      <td>23.912842</td>\n",
       "    </tr>\n",
       "    <tr>\n",
       "      <th>5778</th>\n",
       "      <td>charliebilello</td>\n",
       "      <td>23.885268</td>\n",
       "    </tr>\n",
       "    <tr>\n",
       "      <th>4265</th>\n",
       "      <td>guardian</td>\n",
       "      <td>12.849746</td>\n",
       "    </tr>\n",
       "    <tr>\n",
       "      <th>9505</th>\n",
       "      <td>Estadao</td>\n",
       "      <td>9.254956</td>\n",
       "    </tr>\n",
       "    <tr>\n",
       "      <th>424</th>\n",
       "      <td>YahooFinance</td>\n",
       "      <td>7.819345</td>\n",
       "    </tr>\n",
       "    <tr>\n",
       "      <th>...</th>\n",
       "      <td>...</td>\n",
       "      <td>...</td>\n",
       "    </tr>\n",
       "    <tr>\n",
       "      <th>5324</th>\n",
       "      <td>FOOtoriousBIG</td>\n",
       "      <td>-0.195308</td>\n",
       "    </tr>\n",
       "    <tr>\n",
       "      <th>8333</th>\n",
       "      <td>Sebastianjanis5</td>\n",
       "      <td>-0.195309</td>\n",
       "    </tr>\n",
       "    <tr>\n",
       "      <th>7763</th>\n",
       "      <td>JB99663213</td>\n",
       "      <td>-0.195309</td>\n",
       "    </tr>\n",
       "    <tr>\n",
       "      <th>7625</th>\n",
       "      <td>stealDonaldDump</td>\n",
       "      <td>-0.195310</td>\n",
       "    </tr>\n",
       "    <tr>\n",
       "      <th>10364</th>\n",
       "      <td>Caseystanson</td>\n",
       "      <td>-0.195310</td>\n",
       "    </tr>\n",
       "  </tbody>\n",
       "</table>\n",
       "<p>10728 rows × 2 columns</p>\n",
       "</div>"
      ],
      "text/plain": [
       "           screen_name      score\n",
       "5630    charliebilello  23.912842\n",
       "5778    charliebilello  23.885268\n",
       "4265          guardian  12.849746\n",
       "9505           Estadao   9.254956\n",
       "424       YahooFinance   7.819345\n",
       "...                ...        ...\n",
       "5324     FOOtoriousBIG  -0.195308\n",
       "8333   Sebastianjanis5  -0.195309\n",
       "7763        JB99663213  -0.195309\n",
       "7625   stealDonaldDump  -0.195310\n",
       "10364     Caseystanson  -0.195310\n",
       "\n",
       "[10728 rows x 2 columns]"
      ]
     },
     "execution_count": 100,
     "metadata": {
      "tags": []
     },
     "output_type": "execute_result"
    }
   ],
   "source": [
    "names_scores"
   ]
  },
  {
   "cell_type": "code",
   "execution_count": null,
   "metadata": {
    "id": "3AbnB7N5GJWL"
   },
   "outputs": [],
   "source": [
    "names_scores_no_dup = names_scores.drop_duplicates(subset=[\"screen_name\"], keep=\"first\")"
   ]
  },
  {
   "cell_type": "markdown",
   "metadata": {
    "id": "fmFZsELEH01w"
   },
   "source": [
    "##List of Top 25 Influencers"
   ]
  },
  {
   "cell_type": "code",
   "execution_count": null,
   "metadata": {
    "colab": {
     "base_uri": "https://localhost:8080/",
     "height": 824
    },
    "id": "l1NVHwjMHphc",
    "outputId": "b843cd62-01bc-4099-b7b8-2399e0e2593e"
   },
   "outputs": [
    {
     "data": {
      "text/html": [
       "<div>\n",
       "<style scoped>\n",
       "    .dataframe tbody tr th:only-of-type {\n",
       "        vertical-align: middle;\n",
       "    }\n",
       "\n",
       "    .dataframe tbody tr th {\n",
       "        vertical-align: top;\n",
       "    }\n",
       "\n",
       "    .dataframe thead th {\n",
       "        text-align: right;\n",
       "    }\n",
       "</style>\n",
       "<table border=\"1\" class=\"dataframe\">\n",
       "  <thead>\n",
       "    <tr style=\"text-align: right;\">\n",
       "      <th></th>\n",
       "      <th>screen_name</th>\n",
       "      <th>score</th>\n",
       "    </tr>\n",
       "  </thead>\n",
       "  <tbody>\n",
       "    <tr>\n",
       "      <th>5630</th>\n",
       "      <td>charliebilello</td>\n",
       "      <td>23.912842</td>\n",
       "    </tr>\n",
       "    <tr>\n",
       "      <th>4265</th>\n",
       "      <td>guardian</td>\n",
       "      <td>12.849746</td>\n",
       "    </tr>\n",
       "    <tr>\n",
       "      <th>9505</th>\n",
       "      <td>Estadao</td>\n",
       "      <td>9.254956</td>\n",
       "    </tr>\n",
       "    <tr>\n",
       "      <th>424</th>\n",
       "      <td>YahooFinance</td>\n",
       "      <td>7.819345</td>\n",
       "    </tr>\n",
       "    <tr>\n",
       "      <th>6620</th>\n",
       "      <td>businessinsider</td>\n",
       "      <td>4.991574</td>\n",
       "    </tr>\n",
       "    <tr>\n",
       "      <th>4155</th>\n",
       "      <td>BFMTV</td>\n",
       "      <td>4.401204</td>\n",
       "    </tr>\n",
       "    <tr>\n",
       "      <th>5893</th>\n",
       "      <td>TheStreet</td>\n",
       "      <td>4.312203</td>\n",
       "    </tr>\n",
       "    <tr>\n",
       "      <th>974</th>\n",
       "      <td>FortuneMagazine</td>\n",
       "      <td>3.210872</td>\n",
       "    </tr>\n",
       "    <tr>\n",
       "      <th>4619</th>\n",
       "      <td>engadget</td>\n",
       "      <td>3.199096</td>\n",
       "    </tr>\n",
       "    <tr>\n",
       "      <th>4240</th>\n",
       "      <td>guardiantech</td>\n",
       "      <td>3.115835</td>\n",
       "    </tr>\n",
       "    <tr>\n",
       "      <th>348</th>\n",
       "      <td>KingBach</td>\n",
       "      <td>3.091163</td>\n",
       "    </tr>\n",
       "    <tr>\n",
       "      <th>4807</th>\n",
       "      <td>ReutersBiz</td>\n",
       "      <td>3.069358</td>\n",
       "    </tr>\n",
       "    <tr>\n",
       "      <th>4264</th>\n",
       "      <td>MarcGiller</td>\n",
       "      <td>2.724763</td>\n",
       "    </tr>\n",
       "    <tr>\n",
       "      <th>4108</th>\n",
       "      <td>Yahoo</td>\n",
       "      <td>2.592567</td>\n",
       "    </tr>\n",
       "    <tr>\n",
       "      <th>3657</th>\n",
       "      <td>ElFinanciero_Mx</td>\n",
       "      <td>2.548644</td>\n",
       "    </tr>\n",
       "    <tr>\n",
       "      <th>1174</th>\n",
       "      <td>premnsikka</td>\n",
       "      <td>2.453359</td>\n",
       "    </tr>\n",
       "    <tr>\n",
       "      <th>8028</th>\n",
       "      <td>t24comtr</td>\n",
       "      <td>2.424325</td>\n",
       "    </tr>\n",
       "    <tr>\n",
       "      <th>5148</th>\n",
       "      <td>juanmuriangoski</td>\n",
       "      <td>2.414963</td>\n",
       "    </tr>\n",
       "    <tr>\n",
       "      <th>9799</th>\n",
       "      <td>AlertTrade</td>\n",
       "      <td>2.394698</td>\n",
       "    </tr>\n",
       "    <tr>\n",
       "      <th>4237</th>\n",
       "      <td>BrianSozzi</td>\n",
       "      <td>2.016477</td>\n",
       "    </tr>\n",
       "    <tr>\n",
       "      <th>31</th>\n",
       "      <td>YahooNews</td>\n",
       "      <td>1.843455</td>\n",
       "    </tr>\n",
       "    <tr>\n",
       "      <th>7484</th>\n",
       "      <td>TommyBeer</td>\n",
       "      <td>1.703923</td>\n",
       "    </tr>\n",
       "    <tr>\n",
       "      <th>7800</th>\n",
       "      <td>92newschannel</td>\n",
       "      <td>1.684055</td>\n",
       "    </tr>\n",
       "    <tr>\n",
       "      <th>3108</th>\n",
       "      <td>RichEater420</td>\n",
       "      <td>1.629383</td>\n",
       "    </tr>\n",
       "    <tr>\n",
       "      <th>7211</th>\n",
       "      <td>SAI</td>\n",
       "      <td>1.607304</td>\n",
       "    </tr>\n",
       "  </tbody>\n",
       "</table>\n",
       "</div>"
      ],
      "text/plain": [
       "          screen_name      score\n",
       "5630   charliebilello  23.912842\n",
       "4265         guardian  12.849746\n",
       "9505          Estadao   9.254956\n",
       "424      YahooFinance   7.819345\n",
       "6620  businessinsider   4.991574\n",
       "4155            BFMTV   4.401204\n",
       "5893        TheStreet   4.312203\n",
       "974   FortuneMagazine   3.210872\n",
       "4619         engadget   3.199096\n",
       "4240     guardiantech   3.115835\n",
       "348          KingBach   3.091163\n",
       "4807       ReutersBiz   3.069358\n",
       "4264       MarcGiller   2.724763\n",
       "4108            Yahoo   2.592567\n",
       "3657  ElFinanciero_Mx   2.548644\n",
       "1174       premnsikka   2.453359\n",
       "8028         t24comtr   2.424325\n",
       "5148  juanmuriangoski   2.414963\n",
       "9799       AlertTrade   2.394698\n",
       "4237       BrianSozzi   2.016477\n",
       "31          YahooNews   1.843455\n",
       "7484        TommyBeer   1.703923\n",
       "7800    92newschannel   1.684055\n",
       "3108     RichEater420   1.629383\n",
       "7211              SAI   1.607304"
      ]
     },
     "execution_count": 102,
     "metadata": {
      "tags": []
     },
     "output_type": "execute_result"
    }
   ],
   "source": [
    "names_scores_no_dup[:25]"
   ]
  },
  {
   "cell_type": "markdown",
   "metadata": {
    "id": "XgS1Uj3mGeuw"
   },
   "source": [
    "Charlie Bilello, CEO of Compound Capital Advisors, is identified as the top influencer in the Gamestop/GME twitter conversation, with a score *nearly double* the next influencer. Many news organizations round out the top 25 influencers, including The Guardian, Estadao (a Brazilian news account), Yahoo and Yahoo Finance, Business Insider, and ReutersBiz. Other influencers include actor King Bach and a spam account richeater420 made their ways into the influencers in this dataset collected over Jan 29-30 2021. "
   ]
  }
 ],
 "metadata": {
  "colab": {
   "collapsed_sections": [],
   "name": "Project_1.ipynb",
   "provenance": []
  },
  "kernelspec": {
   "display_name": "Python 3",
   "language": "python",
   "name": "python3"
  },
  "language_info": {
   "codemirror_mode": {
    "name": "ipython",
    "version": 3
   },
   "file_extension": ".py",
   "mimetype": "text/x-python",
   "name": "python",
   "nbconvert_exporter": "python",
   "pygments_lexer": "ipython3",
   "version": "3.7.6"
  }
 },
 "nbformat": 4,
 "nbformat_minor": 5
}
